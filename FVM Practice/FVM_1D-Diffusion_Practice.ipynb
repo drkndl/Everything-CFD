{
 "cells": [
  {
   "cell_type": "markdown",
   "metadata": {},
   "source": [
    "### This problem is from \"An Introduction to Computational Fluid Dynamics\" by Veersteg and Malalasekera \n",
    "\n",
    "#### Chapter 4: Finite Volume Methods for Diffusion Problems, Example 4.1 "
   ]
  },
  {
   "cell_type": "markdown",
   "metadata": {},
   "source": [
    "Consider the problem of source-free heat conduction in an insulated rod whose ends are maintained at constant temperatures of 100°C and 500°C respectively. The one dimensional problem is governed by \n",
    "\n",
    "$$ \\frac{d}{dx} \\left(k\\frac{dT}{dx}\\right)  = 0$$\n",
    "\n",
    "Calculate the steady state temperature distribution in the rod. Thermal conductivity k equals 1000 W/m.K, cross-sectional area A is $10 × 10^{−3} m^2$.\n",
    "\n",
    "![title](rod.png)"
   ]
  },
  {
   "cell_type": "code",
   "execution_count": 2,
   "metadata": {},
   "outputs": [],
   "source": [
    "import numpy as np\n",
    "import matplotlib.pyplot as plt"
   ]
  },
  {
   "cell_type": "code",
   "execution_count": 9,
   "metadata": {},
   "outputs": [
    {
     "name": "stdout",
     "output_type": "stream",
     "text": [
      "[0.05 0.15 0.25 0.35 0.45] 0.1\n"
     ]
    }
   ],
   "source": [
    "# Initializing the variables\n",
    "\n",
    "x = 0.5\n",
    "nx = 5\n",
    "start = 0.05   # The finite volume nodes do not coincide with the boundary nodes\n",
    "xarr = np.linspace(start, x-start, nx)\n",
    "dx = x/nx\n",
    "print(xarr, dx)\n",
    "\n",
    "k = 1000\n",
    "A = 10E-3\n",
    "\n",
    "Ta = 100\n",
    "Tb = 500"
   ]
  },
  {
   "cell_type": "markdown",
   "metadata": {},
   "source": [
    "The array of finite volume nodes do not coincide with the boundary nodes. \n",
    "\n",
    "Therefore, the geometry is as follows:\n",
    "\n",
    "![title](rod_grid.png)"
   ]
  },
  {
   "cell_type": "code",
   "execution_count": 11,
   "metadata": {},
   "outputs": [
    {
     "name": "stdout",
     "output_type": "stream",
     "text": [
      "[0. 0. 0. 0. 0.]\n"
     ]
    }
   ],
   "source": [
    "# Initializing the temperature array of the rod\n",
    "\n",
    "T = np.zeros(nx)\n",
    "print(T)"
   ]
  },
  {
   "cell_type": "markdown",
   "metadata": {},
   "source": [
    "### Discretization of interior nodes (2, 3, 4)\n",
    "\n",
    "$$ \\left( \\frac{kA}{\\delta x} + \\frac{kA}{\\delta x} \\right) T_P = \\left( \\frac{kA}{\\delta x} \\right)T_E + \\left( \\frac{kA}{\\delta x} \\right)T_W $$\n",
    "\n",
    "### Discretization of node 1 ($T_W$ = 0)\n",
    "\n",
    "$$ \\left( \\frac{kA}{\\delta x} + \\frac{2kA}{\\delta x} \\right) T_P = \\left( \\frac{kA}{\\delta x} \\right)T_E + \\left( \\frac{2kA}{\\delta x} \\right)T_a $$\n",
    "\n",
    "Here, the $T_a$ term acts as the source term $S_u$, thereby giving $S_p$ as $-\\frac{2kA}{\\delta x}$.\n",
    "\n",
    "### Discretization of node 5 ($T_E$ = 0)\n",
    "\n",
    "$$ \\left( \\frac{kA}{\\delta x} + \\frac{2kA}{\\delta x} \\right) T_P = \\left( \\frac{kA}{\\delta x} \\right)T_W + \\left( \\frac{2kA}{\\delta x} \\right)T_b $$\n",
    "\n",
    "Here, the $T_b$ term acts as the source term $S_u$, thereby giving $S_p$ as $-\\frac{2kA}{\\delta x}$.\n",
    "\n",
    "Evaluating numerically, we get:\n",
    "$$ \\frac{kA}{\\delta x} = 100 $$"
   ]
  },
  {
   "cell_type": "code",
   "execution_count": 12,
   "metadata": {},
   "outputs": [
    {
     "name": "stdout",
     "output_type": "stream",
     "text": [
      "[-100, -100, -100, -100] [300, 200, 200, 200, 300] [-100, -100, -100, -100] [20000, 0, 0, 0, 100000]\n"
     ]
    }
   ],
   "source": [
    "# Initializing the TDMA matrices\n",
    "\n",
    "#Lower diagonal matrix\n",
    "a = [-100]*4\n",
    "\n",
    "# Diagonal matrix\n",
    "b = [300] + [200]*3 + [300]\n",
    "\n",
    "# Upper diagonal matrix\n",
    "c = [-100]*4\n",
    "\n",
    "#RHS Matrix\n",
    "d = [200*Ta, 0, 0, 0, 200*Tb]\n",
    "\n",
    "print(a, b, c, d)"
   ]
  },
  {
   "cell_type": "code",
   "execution_count": 13,
   "metadata": {},
   "outputs": [],
   "source": [
    "# TDMA Algorithm\n",
    "\n",
    "def TDMAAlgo(a,b,c,d):\n",
    "    n = len(d)\n",
    "    w = np.zeros(n-1,float)\n",
    "    g = np.zeros(n, float)\n",
    "    p = np.zeros(n,float)\n",
    "\n",
    "    w[0] = c[0]/b[0]\n",
    "    g[0] = d[0]/b[0]\n",
    "\n",
    "    for i in range(1,n-1):\n",
    "        w[i] = c[i]/(b[i] - a[i-1]*w[i-1])\n",
    "    for i in range(1,n):\n",
    "        g[i] = (d[i] - a[i-1]*g[i-1])/(b[i] - a[i-1]*w[i-1])\n",
    "    p[n-1] = g[n-1]\n",
    "    for i in range(n-1,0,-1):\n",
    "        p[i-1] = g[i-1] - w[i-1]*p[i]\n",
    "    return p"
   ]
  },
  {
   "cell_type": "code",
   "execution_count": 15,
   "metadata": {},
   "outputs": [
    {
     "name": "stdout",
     "output_type": "stream",
     "text": [
      "[140. 220. 300. 380. 460.]\n"
     ]
    }
   ],
   "source": [
    "# Getting the answer\n",
    "\n",
    "T_comp = TDMAAlgo(a, b, c, d)\n",
    "print(T_comp)"
   ]
  },
  {
   "cell_type": "code",
   "execution_count": 23,
   "metadata": {},
   "outputs": [
    {
     "name": "stdout",
     "output_type": "stream",
     "text": [
      "[0, 0.05, 0.15000000000000002, 0.25, 0.35000000000000003, 0.45, 0.5]\n"
     ]
    },
    {
     "data": {
      "text/plain": [
       "Text(0.5, 1.0, 'Temperature distribution in the rod')"
      ]
     },
     "execution_count": 23,
     "metadata": {},
     "output_type": "execute_result"
    },
    {
     "data": {
      "image/png": "[encoded data removed]",
      "text/plain": [
       "<Figure size 432x288 with 1 Axes>"
      ]
     },
     "metadata": {
      "needs_background": "light"
     },
     "output_type": "display_data"
    }
   ],
   "source": [
    "# Plotting the computational solution\n",
    "x_plot = [0] + list(xarr) + [0.5]\n",
    "T_plot = [Ta] + list(T_comp) + [Tb]\n",
    "plt.plot(x_plot, T_plot, marker = 'o', label = \"Computational solution\")\n",
    "\n",
    "print(x_plot)\n",
    "#Plotting the exact solution\n",
    "anal_sol=[]\n",
    "for i in range(len(x_plot)):\n",
    "    anal_sol.append(800*x_plot[i] + 100)\n",
    "plt.plot(x_plot, anal_sol, color='red', label=\"Analytical solution\")\n",
    "plt.legend()\n",
    "plt.title(\"Temperature distribution in the rod\")"
   ]
  },
  {
   "cell_type": "code",
   "execution_count": null,
   "metadata": {},
   "outputs": [],
   "source": []
  }
 ],
 "metadata": {
  "kernelspec": {
   "display_name": "Python 3",
   "language": "python",
   "name": "python3"
  },
  "language_info": {
   "codemirror_mode": {
    "name": "ipython",
    "version": 3
   },
   "file_extension": ".py",
   "mimetype": "text/x-python",
   "name": "python",
   "nbconvert_exporter": "python",
   "pygments_lexer": "ipython3",
   "version": "3.7.6"
  }
 },
 "nbformat": 4,
 "nbformat_minor": 4
}
