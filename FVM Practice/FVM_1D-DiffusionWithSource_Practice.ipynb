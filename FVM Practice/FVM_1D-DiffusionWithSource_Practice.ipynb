{
 "cells": [
  {
   "cell_type": "markdown",
   "metadata": {},
   "source": [
    "### This problem is from \"An Introduction to Computational Fluid Dynamics\" by Veersteg and Malalasekera \n",
    "\n",
    "#### Chapter 4: Finite Volume Methods for Diffusion Problems, Example 4.3"
   ]
  },
  {
   "cell_type": "markdown",
   "metadata": {},
   "source": [
    "We discuss the cooling of a circular fin by means of convective heat transfer along its length. Convection gives rise to a temperature-dependent heat loss or sink term in the governing equation. There is a cylindrical fin with uniform cross-sectional area A. The base is at a temperature of 100°C ($T_B$) and the end is insulated. The fin is exposed to an ambient temperature of 20°C. One dimensional heat transfer in this situation is governed by:\n",
    "\n",
    "$$ \\frac{d}{dx} \\left(kA\\frac{dT}{dx}\\right) - hP(T - T_\\infty) = 0$$\n",
    "\n",
    "where h is the convective heat transfer coefficient, P the perimeter, k the thermal conductivity of the material and $T_\\infty$ the ambient temperature. Calculate the temperature distribution along the fin and compare the results with the analytical solution given by:\n",
    "\n",
    "$$ \\frac{T - T_\\infty}{T_B - T_\\infty} = \\frac{cosh(n(L-x))}{cosh(nL)} $$\n",
    "\n",
    "where $n^2 = hP/(kA)$, L is the length of the fin and x the distance along the fin. \n",
    "\n",
    "Data: L = 1 m, $hP/(kA) = 25/m^2$ (note that kA is constant)."
   ]
  },
  {
   "cell_type": "code",
   "execution_count": 1,
   "metadata": {},
   "outputs": [],
   "source": [
    "import numpy as np\n",
    "import matplotlib.pyplot as plt"
   ]
  },
  {
   "cell_type": "code",
   "execution_count": null,
   "metadata": {},
   "outputs": [],
   "source": [
    "# Initializing the variables\n",
    "\n"
   ]
  }
 ],
 "metadata": {
  "kernelspec": {
   "display_name": "Python 3",
   "language": "python",
   "name": "python3"
  },
  "language_info": {
   "codemirror_mode": {
    "name": "ipython",
    "version": 3
   },
   "file_extension": ".py",
   "mimetype": "text/x-python",
   "name": "python",
   "nbconvert_exporter": "python",
   "pygments_lexer": "ipython3",
   "version": "3.7.6"
  }
 },
 "nbformat": 4,
 "nbformat_minor": 4
}
