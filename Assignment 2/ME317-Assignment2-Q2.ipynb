{
 "cells": [
  {
   "cell_type": "markdown",
   "metadata": {},
   "source": [
    "### Question 2\n",
    "\n",
    "The temperature T(x) that arises due to steady-state heat conduction in a bar 30 cm long is governed by the following ODE, if uniform temperature is assumed across any cross section:\n",
    "\n",
    "$$\\frac{\\partial^2T}{\\partial x^2} - GT=0$$\n",
    "\n",
    "where T is the temperature difference from the ambient medium, which is at 20°C, x is the axial coordinate distance, and G is a constant that depends on the surface heat transfer rate. This equation may be replaced by a finite difference approximation, using the second order central difference scheme, as\n",
    "\n",
    "$$(T_{i+1} - 2T_{i} + T_{i-1})/\\Delta x^2 = GT_i$$\n",
    "\n",
    "where x = $i\\Delta x$. Considering 30 subdivisions of the length of the rod, with $\\Delta x = 1 cm$ find the temperature differences $T_i$, where i = 1, 2, . . ., 29.\n",
    "\n",
    "The temperatures differences $T_0$ and $T_{30}$, at x = 0 and x = 30 cm, respectively, are given as 100°C, and the constant G as $(0.071)^2 cm^{−2}$.\n",
    "\n",
    "Write a code and solve using Thomas Algorithm. Present your results both in tabular form and in graphical form (T(x) vs x). Compare the numerical results T(x) vs x with analytical results (Validation). Comment on the validity of the developed code."
   ]
  },
  {
   "cell_type": "code",
   "execution_count": 3,
   "metadata": {},
   "outputs": [],
   "source": [
    "# Importing the necessary libraries\n",
    "import numpy as np\n",
    "import matplotlib.pyplot as plt\n",
    "import math\n",
    "import pandas as pd\n",
    "import timeit"
   ]
  },
  {
   "cell_type": "code",
   "execution_count": 4,
   "metadata": {
    "scrolled": true
   },
   "outputs": [
    {
     "name": "stdout",
     "output_type": "stream",
     "text": [
      "[ 0.  1.  2.  3.  4.  5.  6.  7.  8.  9. 10. 11. 12. 13. 14. 15. 16. 17.\n",
      " 18. 19. 20. 21. 22. 23. 24. 25. 26. 27. 28. 29. 30.]\n"
     ]
    }
   ],
   "source": [
    "nx=31          #number of points\n",
    "dx=30/(nx-1)   #division of points\n",
    "T=20           #ambient temperature\n",
    "G=(0.071)**2   #constant\n",
    "\n",
    "xarr=np.linspace(0,30,nx) #creating the x array from 0 to 30\n",
    "print(xarr)\n",
    "\n",
    "T_comp=np.zeros(nx) #creating an array for the numerical solution\n",
    "T_comp[0]=100       #giving initial conditions\n",
    "T_comp[-1]=100"
   ]
  },
  {
   "cell_type": "markdown",
   "metadata": {},
   "source": [
    "### The Analytical Solution\n",
    "\n",
    "$$\\frac{\\partial^2T}{\\partial x^2} - GT=0$$\n",
    "\n",
    "Comparing it with the equation:\n",
    "$a\\frac{\\partial^2y}{\\partial x^2} + b\\frac{\\partial y}{\\partial x} + cy = 0$\n",
    "\n",
    "Here, $a=1$, $b=0$ and $c=-G=-0.005041$.\n",
    "\n",
    "Solving the quadratic equation:\n",
    "$$ar^2+br+c=0$$ \n",
    "\n",
    "i.e.\n",
    "\n",
    "$$r^2-0.005041=0$$\n",
    "\n",
    "we get $r=0.071$ and $r=-0.071$.\n",
    "\n",
    "The solution becomes $T=c_1 e^{0.071x} + c_2 e^{-0.071x}$.\n",
    "\n",
    "Given initial conditions are $y(0)=100$ and $y(30)=100$.\n",
    "\n",
    "Substituting the initial conditions in the solution, we get $c_1=10.6215$ and $c_2=89.3785$.\n",
    "\n",
    "Therefore, the solution is \n",
    "\n",
    "$$T = 10.6215e^{0.071x} + 89.3785e^{-0.071x}$$"
   ]
  },
  {
   "cell_type": "code",
   "execution_count": 5,
   "metadata": {},
   "outputs": [
    {
     "name": "stdout",
     "output_type": "stream",
     "text": [
      "[100.          94.65570972  89.78877935  85.37466438  81.39110393\n",
      "  77.81800841  74.6373583   71.83311319  69.39113094  67.29909636\n",
      "  65.54645906  64.12438028  63.02568833  62.24484235  61.77790446\n",
      "  61.62251984  61.77790485  62.24484312  63.02568949  64.12438184\n",
      "  65.54646102  67.29909873  69.39113374  71.83311642  74.63736199\n",
      "  77.81801258  81.39110859  85.37466956  89.78878507  94.65571602\n",
      " 100.00000691]\n"
     ]
    }
   ],
   "source": [
    "#Analytical solution\n",
    "\n",
    "T_analytical = np.asarray([10.6215*math.exp(0.071*x)+89.3785*math.exp(-0.071*x) for x in xarr])\n",
    "print(T_analytical)        #array of analytical solutions from x=0 to x=30"
   ]
  },
  {
   "cell_type": "markdown",
   "metadata": {},
   "source": [
    "### Numerical Solution using TDMA:\n",
    "    \n",
    "Discretizing the equation as Central Difference in space, we get:\n",
    "\n",
    "$$(T_{i+1} - 2T_{i} + T_{i-1})/\\Delta x^2 = GT_i$$\n",
    "\n",
    "where $\\Delta x = 1$ and $G=0.071^2$. This gives:\n",
    "\n",
    "$$T_{i+1} - (2+G)T_{i} + T_{i-1}=0$$\n",
    "\n",
    "Comparing this equation with the following equation:\n",
    "\n",
    "$$aT_{i+1} + bT_{i} + cT_{i-1}=d$$\n",
    "\n",
    "$a=1, b=-(2+G), c=1, d=0$ for the interior nodes. For the exterior nodes, $d=100$.\n",
    "\n",
    "Let A be the lower diagonal matrix, B is the main diagonal matrix, C is the upper diagonal matrix and D is the right hand side of the system. $a_0=0$ and $c_30=0$ i.e. $A[0]=0$ and $C[30]=0$.\n",
    "\n",
    "Applying the boundary conditions, $T_0 = 100$, so $c_0=0$ and $b_0=1$ and $T_{30}=100$, so $a_{30}=0$ and $b_{30}=1$."
   ]
  },
  {
   "cell_type": "code",
   "execution_count": 6,
   "metadata": {},
   "outputs": [
    {
     "name": "stdout",
     "output_type": "stream",
     "text": [
      "[100.          94.65738374  89.79193535  85.37912811  81.39671705\n",
      "  77.82462684  74.64485058  71.84135901  69.40001973  67.30852595\n",
      "  65.55633444  64.13461242  63.03619299  62.255539    61.78871518\n",
      "  61.63336827  61.78871518  62.255539    63.03619299  64.13461242\n",
      "  65.55633444  67.30852595  69.40001973  71.84135901  74.64485058\n",
      "  77.82462684  81.39671705  85.37912811  89.79193535  94.65738374\n",
      " 100.        ]\n"
     ]
    }
   ],
   "source": [
    "#Implicit numerical solution using TDMA\n",
    "\n",
    "#Lower Diagonal matrix\n",
    "a=[1]*29+[0]\n",
    "\n",
    "#Middle Diagonal matrix\n",
    "b=[1]+[-2-G]*29+[1]\n",
    "\n",
    "#Upper Diagonal Matrix\n",
    "c=[0]+[1]*29\n",
    "\n",
    "#Right hand side of the system\n",
    "d=[100]+[0]*29+[100]\n",
    "    \n",
    "def TDMAAlgo(a,b,c,d):\n",
    "    \"\"\"\n",
    "    This function solves a set of equations for the temperature distribution of a 1-D array using the Thomas Algorithm.\n",
    "    \n",
    "    Here, a is the lower diagonal of the coefficient matrix.\n",
    "    b is the main diagonal of the coefficient matrix.\n",
    "    c is the upper diagonal of the coefficient matrix.\n",
    "    d is the RHS column matrix.\n",
    "    \n",
    "    This function solves the set of equations using TDMA, which uses a series of forward elimination and back substitutions.\n",
    "    It finally returns p, the solved set of temperatures.\n",
    "    \"\"\"\n",
    "    n = len(d)                  # Finds the total number of equations\n",
    "    \n",
    "    # Initializing some arrays\n",
    "    w = np.zeros(n-1,float)\n",
    "    g = np.zeros(n, float)\n",
    "    p = np.zeros(n,float)\n",
    "    \n",
    "    # Steps to make the main diagonal element 1\n",
    "    w[0] = c[0]/b[0]\n",
    "    g[0] = d[0]/b[0]\n",
    "    \n",
    "    # Steps to make the lower diagonal element 0 \n",
    "    for i in range(1,n-1):\n",
    "        w[i] = c[i]/(b[i] - a[i-1]*w[i-1])\n",
    "    for i in range(1,n):\n",
    "        g[i] = (d[i] - a[i-1]*g[i-1])/(b[i] - a[i-1]*w[i-1])\n",
    "    \n",
    "    # Getting the final RHS matrix element\n",
    "    p[n-1] = g[n-1]\n",
    "    \n",
    "    # Back substitution\n",
    "    for i in range(n-1,0,-1):\n",
    "        p[i-1] = g[i-1] - w[i-1]*p[i]\n",
    "    return p\n",
    "\n",
    "T_comp=TDMAAlgo(a,b,c,d)\n",
    "print(T_comp)"
   ]
  },
  {
   "cell_type": "markdown",
   "metadata": {},
   "source": [
    "Let us print the output values in tabular form for better visualization."
   ]
  },
  {
   "cell_type": "code",
   "execution_count": 7,
   "metadata": {},
   "outputs": [
    {
     "name": "stdout",
     "output_type": "stream",
     "text": [
      "    Analytical Values  Numerical Values\n",
      "0          100.000000        100.000000\n",
      "1           94.655710         94.657384\n",
      "2           89.788779         89.791935\n",
      "3           85.374664         85.379128\n",
      "4           81.391104         81.396717\n",
      "5           77.818008         77.824627\n",
      "6           74.637358         74.644851\n",
      "7           71.833113         71.841359\n",
      "8           69.391131         69.400020\n",
      "9           67.299096         67.308526\n",
      "10          65.546459         65.556334\n",
      "11          64.124380         64.134612\n",
      "12          63.025688         63.036193\n",
      "13          62.244842         62.255539\n",
      "14          61.777904         61.788715\n",
      "15          61.622520         61.633368\n",
      "16          61.777905         61.788715\n",
      "17          62.244843         62.255539\n",
      "18          63.025689         63.036193\n",
      "19          64.124382         64.134612\n",
      "20          65.546461         65.556334\n",
      "21          67.299099         67.308526\n",
      "22          69.391134         69.400020\n",
      "23          71.833116         71.841359\n",
      "24          74.637362         74.644851\n",
      "25          77.818013         77.824627\n",
      "26          81.391109         81.396717\n",
      "27          85.374670         85.379128\n",
      "28          89.788785         89.791935\n",
      "29          94.655716         94.657384\n",
      "30         100.000007        100.000000\n"
     ]
    }
   ],
   "source": [
    "df = pd.DataFrame(list(zip(T_analytical, T_comp)), index=range(0,31), columns =['Analytical Values', 'Numerical Values'])\n",
    "print(df)"
   ]
  },
  {
   "cell_type": "markdown",
   "metadata": {},
   "source": [
    "We can see that the analytical and the numerical results that we obtain through TDMA closely agree with each other. This can be further confirmed if we plot a graph depicting the numerical and analytical results together."
   ]
  },
  {
   "cell_type": "code",
   "execution_count": 8,
   "metadata": {},
   "outputs": [
    {
     "data": {
      "text/plain": [
       "[]"
      ]
     },
     "execution_count": 8,
     "metadata": {},
     "output_type": "execute_result"
    },
    {
     "data": {
      "image/png": "[encoded data removed]",
      "text/plain": [
       "<Figure size 432x288 with 1 Axes>"
      ]
     },
     "metadata": {
      "needs_background": "light"
     },
     "output_type": "display_data"
    }
   ],
   "source": [
    "#Plotting the graph\n",
    "plt.plot(xarr,T_comp, marker='o', label=\"TDMA Solution\")\n",
    "plt.plot(xarr, T_analytical, color='red', label='Analytical Solution')\n",
    "plt.title(\"Temperature Contour Plot\")\n",
    "plt.xlabel(\"X values\")\n",
    "plt.ylabel(\"Temperature\")\n",
    "plt.legend()\n",
    "plt.plot()"
   ]
  },
  {
   "cell_type": "markdown",
   "metadata": {},
   "source": [
    "### Measuring the CPU time taken\n",
    "\n",
    "Let us measure the time taken by the CPU to execute the numerical code.\n",
    "\n",
    "The CPU time to execute the code can be done using the timeit module in Python. It requires me to put the code whose execution time needs to be computed in a string. The final result is printed below."
   ]
  },
  {
   "cell_type": "code",
   "execution_count": 9,
   "metadata": {},
   "outputs": [
    {
     "name": "stdout",
     "output_type": "stream",
     "text": [
      "[100.          94.65738374  89.79193535  85.37912811  81.39671705\n",
      "  77.82462684  74.64485058  71.84135901  69.40001973  67.30852595\n",
      "  65.55633444  64.13461242  63.03619299  62.255539    61.78871518\n",
      "  61.63336827  61.78871518  62.255539    63.03619299  64.13461242\n",
      "  65.55633444  67.30852595  69.40001973  71.84135901  74.64485058\n",
      "  77.82462684  81.39671705  85.37912811  89.79193535  94.65738374\n",
      " 100.        ]\n",
      "The time taken for the TDMA code to execute is: 0.001194 seconds\n"
     ]
    }
   ],
   "source": [
    "mysetup = \"import numpy as np\"\n",
    "\n",
    "mycode = \"\"\"\n",
    "\n",
    "G = (0.071)**2\n",
    "\n",
    "#Implicit numerical solution using TDMA\n",
    "\n",
    "#Lower Diagonal matrix\n",
    "a=[1]*29+[0]\n",
    "\n",
    "#Middle Diagonal matrix\n",
    "b=[1]+[-2-G]*29+[1]\n",
    "\n",
    "#Upper Diagonal Matrix\n",
    "c=[0]+[1]*29\n",
    "\n",
    "#Right hand side of the system\n",
    "d=[100]+[0]*29+[100]\n",
    "    \n",
    "def TDMAAlgo(a,b,c,d):\n",
    "    n = len(d)                  # Finds the total number of equations\n",
    "    \n",
    "    # Initializing some arrays\n",
    "    w = np.zeros(n-1,float)\n",
    "    g = np.zeros(n, float)\n",
    "    p = np.zeros(n,float)\n",
    "    \n",
    "    # Steps to make the main diagonal element 1\n",
    "    w[0] = c[0]/b[0]\n",
    "    g[0] = d[0]/b[0]\n",
    "    \n",
    "    # Steps to make the lower diagonal element 0 \n",
    "    for i in range(1,n-1):\n",
    "        w[i] = c[i]/(b[i] - a[i-1]*w[i-1])\n",
    "    for i in range(1,n):\n",
    "        g[i] = (d[i] - a[i-1]*g[i-1])/(b[i] - a[i-1]*w[i-1])\n",
    "    \n",
    "    # Getting the final RHS matrix element\n",
    "    p[n-1] = g[n-1]\n",
    "    \n",
    "    # Back substitution\n",
    "    for i in range(n-1,0,-1):\n",
    "        p[i-1] = g[i-1] - w[i-1]*p[i]\n",
    "    return p\n",
    "\n",
    "T_comp=TDMAAlgo(a,b,c,d)\n",
    "print(T_comp)\n",
    "\n",
    "\"\"\"\n",
    "\n",
    "print(\"The time taken for the TDMA code to execute is: %f seconds\"% (timeit.timeit(setup = mysetup, stmt = mycode, number = 1)))"
   ]
  },
  {
   "cell_type": "markdown",
   "metadata": {},
   "source": [
    "### Results and Discussions\n",
    "\n",
    "Therefore, we can see from the graph that the numerical solution obtained by TDMA closely agrees with the analytical solution. Hence, the code developed is **valid**. \n",
    "\n",
    "We can see that the temperature decreases until the centre of the bar, and then increases again towards the end. The temperature distribution is symmetric about the vertical axis. \n",
    "\n",
    "The CPU time taken for the TDMA code to execute is about 0.001194 seconds."
   ]
  }
 ],
 "metadata": {
  "kernelspec": {
   "display_name": "Python 3",
   "language": "python",
   "name": "python3"
  },
  "language_info": {
   "codemirror_mode": {
    "name": "ipython",
    "version": 3
   },
   "file_extension": ".py",
   "mimetype": "text/x-python",
   "name": "python",
   "nbconvert_exporter": "python",
   "pygments_lexer": "ipython3",
   "version": "3.7.6"
  }
 },
 "nbformat": 4,
 "nbformat_minor": 4
}
