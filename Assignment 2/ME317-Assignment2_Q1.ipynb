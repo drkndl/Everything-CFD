{
 "cells": [
  {
   "cell_type": "markdown",
   "metadata": {},
   "source": [
    "# ME317 Computational Fluid Dynamics \n",
    "\n",
    "## Assignment 2 - Drishika Nadella (181ME222)\n",
    "\n",
    "### This assignment has been solved using the Anaconda Jupyter Notebook Environment in Python3."
   ]
  },
  {
   "cell_type": "markdown",
   "metadata": {},
   "source": [
    "#### Question 1\n",
    "\n",
    "The upward velocity of a rocket is given at three different times in Table 1.\n",
    "\n",
    "| Time t (s)      | Velocity v (m/s) |\n",
    "| ----------------| ---------------- |\n",
    "| 5               | 106.8            |\n",
    "| 8               | 177.2            |\n",
    "| 12              | 279.2            |\n",
    "\n",
    "The velocity data is approximated as a polynomial as:\n",
    "\n",
    "$$ v(t) = a_1t^2 + a_2t + a_3 $$\n",
    "\n",
    "where $ 5 \\leq t \\leq 12 $.\n",
    "\n",
    "The coefficients $a_1$, $a_2$ and $a_3$ for the above given expression are given as:\n",
    "\n",
    "$\\begin{bmatrix}25 & 5 & 1 \\\\ 64 & 8 & 1 \\\\ 144 & 12 & 1 \\end{bmatrix}$$\\begin{bmatrix}a_1 \\\\ a_2 \\\\ a_3 \\end{bmatrix}$ = $\\begin{bmatrix} 106.8 \\\\ 177.2 \\\\ 279.2 \\end{bmatrix}$\n",
    "\n",
    "Find the velocity at t = 6 seconds."
   ]
  },
  {
   "cell_type": "code",
   "execution_count": 1,
   "metadata": {},
   "outputs": [],
   "source": [
    "# Importing the necessary libraries\n",
    "import numpy as np\n",
    "import sys\n",
    "import timeit"
   ]
  },
  {
   "cell_type": "markdown",
   "metadata": {},
   "source": [
    "Let us first solve this problem analytically, so we know what answers to expect."
   ]
  },
  {
   "cell_type": "code",
   "execution_count": 2,
   "metadata": {},
   "outputs": [],
   "source": [
    "# Initializing the variables\n",
    "\n",
    "# Initializing the coefficient matrix\n",
    "A = np.array([[25, 5, 1], [64, 8, 1], [144, 12, 1]])\n",
    "\n",
    "#Initializing the RHS matrix\n",
    "B = np.array([106.8, 177.2, 279.2])"
   ]
  },
  {
   "cell_type": "code",
   "execution_count": 3,
   "metadata": {},
   "outputs": [
    {
     "name": "stdout",
     "output_type": "stream",
     "text": [
      "[ 0.29047619 19.69047619  1.08571429]\n"
     ]
    }
   ],
   "source": [
    "# Solving the system of linear equations analytically\n",
    "\n",
    "final = np.linalg.inv(A).dot(B)\n",
    "print(final)"
   ]
  },
  {
   "cell_type": "markdown",
   "metadata": {},
   "source": [
    "Therefore, the expected solutions are $a_1 = 0.29047619$, $a_2 = 19.69047619$ and $a_3 = 1.08571429$.\n",
    "\n",
    "Now, solving the system of equations numerically:\n",
    "\n",
    "Let us try to solve this problem using the Gauss-Seidel method."
   ]
  },
  {
   "cell_type": "markdown",
   "metadata": {},
   "source": [
    "### Gauss-Seidel Method\n",
    "\n",
    "According to the Gauss Seidel method, the system of equations will be as follows:\n",
    "\n",
    "$$ a_1^{k+1} = \\frac{106.8 - 5a_2^k - a_3^k}{25} $$\n",
    "$$ a_2^{k+1} = \\frac{177.2 - 64a_1^{k+1} - a_3^k}{8} $$\n",
    "$$ a_3^{k+1} = \\frac{279.2 - 144a_1^{k+1} - 12a_2^{k+1}}{1} $$\n",
    "\n",
    "We use the most recent iteration of the three variables while finding the values for the other variables."
   ]
  },
  {
   "cell_type": "code",
   "execution_count": 4,
   "metadata": {},
   "outputs": [],
   "source": [
    "# Initializing the variables\n",
    "\n",
    "nt = 50                                        # Maximum number of iterations possible\n",
    "error = 1E-6                                   # Maximum permissible error\n",
    "c = [[25, 5, 1], [64, 8, 1], [144, 12, 1]]     # Coefficient matrix\n",
    "d = [106.8, 177.2, 279.2]                      # RHS Matrix\n",
    "a = [1, 2, 5]                                  # Initial guesses for the answers a1, a2 and a3"
   ]
  },
  {
   "cell_type": "code",
   "execution_count": 5,
   "metadata": {},
   "outputs": [],
   "source": [
    "def GaussSeidel(nt, error, a, c, d):\n",
    "    \n",
    "    \"\"\"\n",
    "    This function solves the system of linear equations using the Gauss Seidel method as explained above.\n",
    "    Here, nt = maximum number of iterations\n",
    "    error = maximum permissible error of the answers to the true values\n",
    "    a = matrix for the initial guesses of a1, a2, a3\n",
    "    c = coefficient matrix\n",
    "    d = RHS matrix\n",
    "    The function prints out the a1, a2, a3 values every 10 iterations.\n",
    "    \"\"\"\n",
    "    \n",
    "    for n in range(nt+1):\n",
    "        \n",
    "        # x, y, z store the old values of a1, a2, a3\n",
    "        x = a[0]\n",
    "        y = a[1]\n",
    "        z = a[2]\n",
    "        \n",
    "        # Performing Gauss Seidel iteration for all three variables\n",
    "        # Note how a2 calculation uses the most recent a1, and a3 calculation uses the most recent a1 and a2.\n",
    "        a[0] = (d[0] - c[0][1]*y - c[0][2]*z)/c[0][0]\n",
    "        a[1] = (d[1] - c[1][0]*a[0] - c[1][2]*z)/c[1][1]\n",
    "        a[2] = (d[2] - c[2][0]*a[0] - c[2][1]*a[1])/c[2][2]\n",
    "        \n",
    "        # Checking for convergence\n",
    "        if max(abs(x-a[0]), abs(y-a[1]), abs(z-a[2])) < error:\n",
    "            print(\"\\n\")\n",
    "            print(\"Finally, a1 = %f, a2 = %f, a3 = %f\"% (a[0], a[1], a[2]))\n",
    "            print(\"It took %d iterations\"% (n+1))\n",
    "            break\n",
    "        \n",
    "        # Prints out the values every 10 iterations\n",
    "        elif (n+1)%10==0:\n",
    "            print(\"Iteration number: \", n+1)\n",
    "            print(\"a1 = %f \\n a2 = %f \\n a3 = %f \\n\"% (a[0], a[1], a[2]))\n",
    "            print(\"\\n\")"
   ]
  },
  {
   "cell_type": "code",
   "execution_count": 6,
   "metadata": {},
   "outputs": [
    {
     "name": "stdout",
     "output_type": "stream",
     "text": [
      "Iteration number:  10\n",
      "a1 = 988378.793288 \n",
      " a2 = -5671869.896305 \n",
      " a3 = -74263828.277822 \n",
      "\n",
      "\n",
      "\n",
      "Iteration number:  20\n",
      "a1 = 1509210001999.948975 \n",
      " a2 = -8660719631421.269531 \n",
      " a3 = -113397604710658.234375 \n",
      "\n",
      "\n",
      "\n",
      "Iteration number:  30\n",
      "a1 = 2304496976556495104.000000 \n",
      " a2 = -13224536134145269760.000000 \n",
      " a3 = -173153131014392086528.000000 \n",
      "\n",
      "\n",
      "\n",
      "Iteration number:  40\n",
      "a1 = 3518865040598500695343104.000000 \n",
      " a2 = -20193282245095887279751168.000000 \n",
      " a3 = -264397178905033435592523776.000000 \n",
      "\n",
      "\n",
      "\n",
      "Iteration number:  50\n",
      "a1 = 5373151407839446864779418796032.000000 \n",
      " a2 = -30834249586816195591478917988352.000000 \n",
      " a3 = -403722807687086019444887800250368.000000 \n",
      "\n",
      "\n",
      "\n",
      "Expected result: a1 = 0.290476 \n",
      " a2 = 19.690476 \n",
      " a3 = 1.085714\n"
     ]
    }
   ],
   "source": [
    "# Calling the Gauss Seidel function\n",
    "GaussSeidel(nt, error, a, c, d)\n",
    "\n",
    "# Printing the expected analytical result\n",
    "print(\"Expected result: a1 = %f \\n a2 = %f \\n a3 = %f\"%(final[0], final[1], final[2]))"
   ]
  },
  {
   "cell_type": "markdown",
   "metadata": {},
   "source": [
    "We can see that even after 50 iterations, the values diverge drastically from the expected result and the errors compound. This is because Gauss-Seidel solver is an iterative solver. Iterative solvers require the \"diagonal dominance\" condition to be satisfied. The diagonal dominance condition is:\n",
    "\n",
    "- The coefficient of the diagonal of the matrix must be at least equal to the sum of the other coefficients in that row\n",
    "- At least one row with a diagonal coefficient greater than the sum of the other coefficients in that row\n",
    "\n",
    "Let us test the diagonal dominance condition on the rows of the coefficient matrix.\n",
    "\n",
    "- Row 1\n",
    "\n",
    "$ 25 \\geq 5 + 1 $ condition is satisfied.\n",
    "\n",
    "- Row 2\n",
    "\n",
    "$ 8 \\geq 64 + 1 $ condition is not satisfied.\n",
    "\n",
    "- Row 3\n",
    "\n",
    "$ 1 \\geq 144 + 12 $ condition is not satisfied.\n",
    "\n",
    "Therefore, rows 2 and 3 fail the first condition in the diagonal dominance requirement. Therefore, iterative solvers such as the Gauss-Seidel method are **not valid** for the problem. \n",
    "\n",
    "We need to use direct solvers to solve the problem."
   ]
  },
  {
   "cell_type": "markdown",
   "metadata": {},
   "source": [
    "### Gauss Elimination Method\n",
    "\n",
    "The Gauss Elimination method is a type of direct solver that obtains the solutions to a system of linear equations. Since it is a direct solver, it does not require diagonal dominance.\n",
    "\n",
    "The steps involved in the Gauss Elimination method are:\n",
    "\n",
    "- Swapping two rows\n",
    "- Multiplying a row by a nonzero number\n",
    "- Adding a multiple of one row to another row\n",
    "\n",
    "These operations are performed until the lower left-hand corner of the matrix is filled with zeros, as much as possible."
   ]
  },
  {
   "cell_type": "code",
   "execution_count": 7,
   "metadata": {},
   "outputs": [],
   "source": [
    "def Gauss(a, n):\n",
    "    \"\"\"\n",
    "    This function solves a set of linear equations using the Gauss Elimination method.\n",
    "    Here, a = augmented matrix that contains the coefficient and the RHS matrices\n",
    "    n = number of unknowns\n",
    "    The function returns the three unknowns a1, a2, a3\n",
    "    \"\"\"\n",
    "    # Defining the array that will contain the solution\n",
    "    x = np.zeros(n)\n",
    "    \n",
    "    # Gaussian Elimination method\n",
    "    for i in range(n):\n",
    "        for j in range(i+1, n):\n",
    "            ratio = a[j][i]/a[i][i]\n",
    "\n",
    "            for k in range(n+1):\n",
    "                a[j][k] = a[j][k] - ratio * a[i][k]\n",
    "\n",
    "    x[n-1] = a[n-1][n]/a[n-1][n-1]\n",
    "    \n",
    "    # Back substitution\n",
    "    for i in range(n-2,-1,-1):\n",
    "        x[i] = a[i][n]\n",
    "\n",
    "        for j in range(i+1,n):\n",
    "            x[i] = x[i] - a[i][j]*x[j]\n",
    "\n",
    "        x[i] = x[i]/a[i][i]\n",
    "\n",
    "    return x"
   ]
  },
  {
   "cell_type": "code",
   "execution_count": 8,
   "metadata": {},
   "outputs": [
    {
     "name": "stdout",
     "output_type": "stream",
     "text": [
      "The final results are: a1 = 0.290476, a2 = 19.690476, a3 = 1.085714\n"
     ]
    }
   ],
   "source": [
    "init = np.array([[25, 5, 1, 106.8], [64, 8, 1, 177.2], [144, 12, 1, 279.2]])\n",
    "results = Gauss(init, 3)\n",
    "print(\"The final results are: a1 = %f, a2 = %f, a3 = %f\"% (results[0], results[1], results[2]))"
   ]
  },
  {
   "cell_type": "markdown",
   "metadata": {},
   "source": [
    "We can see that the above results we obtained with the Gauss Elimination method gave us the same results as the analytical method. Now, we need to find the value of velocity v at time t = 6 seconds."
   ]
  },
  {
   "cell_type": "code",
   "execution_count": 9,
   "metadata": {},
   "outputs": [
    {
     "name": "stdout",
     "output_type": "stream",
     "text": [
      "The velocity v at time 6 seconds is 129.685714 m/s\n"
     ]
    }
   ],
   "source": [
    "t = 6\n",
    "v = results[0]*t**2 + results[1]*t + results[2]\n",
    "print(\"The velocity v at time %d seconds is %f m/s\"%(t,v))"
   ]
  },
  {
   "cell_type": "markdown",
   "metadata": {},
   "source": [
    "### Computing CPU time to execute the code\n",
    "\n",
    "The CPU time to execute the code can be done using the timeit module in Python. It requires me to put the code whose execution time needs to be computed in a string. The final result is printed below."
   ]
  },
  {
   "cell_type": "code",
   "execution_count": 10,
   "metadata": {},
   "outputs": [
    {
     "name": "stdout",
     "output_type": "stream",
     "text": [
      "[ 0.29047619 19.69047619  1.08571429]\n",
      "The time taken for the Gauss Elimination code to execute is: 0.000609\n"
     ]
    }
   ],
   "source": [
    "mysetup = \"import numpy as np\"\n",
    "\n",
    "mycode = \"\"\"\n",
    "def Gauss(a, n):\n",
    "    x = np.zeros(n)\n",
    "    \n",
    "    for i in range(n):\n",
    "        for j in range(i+1, n):\n",
    "            ratio = a[j][i]/a[i][i]\n",
    "\n",
    "            for k in range(n+1):\n",
    "                a[j][k] = a[j][k] - ratio * a[i][k]\n",
    "\n",
    "    x[n-1] = a[n-1][n]/a[n-1][n-1]\n",
    "\n",
    "    for i in range(n-2,-1,-1):\n",
    "        x[i] = a[i][n]\n",
    "\n",
    "        for j in range(i+1,n):\n",
    "            x[i] = x[i] - a[i][j]*x[j]\n",
    "\n",
    "        x[i] = x[i]/a[i][i]\n",
    "\n",
    "    return x\n",
    "\n",
    "init = np.array([[25, 5, 1, 106.8], [64, 8, 1, 177.2], [144, 12, 1, 279.2]])\n",
    "results = Gauss(init, 3)\n",
    "print(results)\n",
    "\"\"\"\n",
    "\n",
    "print(\"The time taken for the Gauss Elimination code to execute is: %f\"% (timeit.timeit(setup = mysetup, stmt = mycode, number = 1)))"
   ]
  },
  {
   "cell_type": "markdown",
   "metadata": {},
   "source": [
    "### Results and Discussion\n",
    "\n",
    "We can see that the velocity at time t=6 seconds is 129.685714 m/s. \n",
    "\n",
    "Therefore, we can see that for the given question, the Gauss-Seidel code is invalid as it does not satisfy the diagonal dominance condition, but the Gauss Elimination code is **valid**, since it is a direct solver that does not require the diagonal dominance condition to be satisfied.\n",
    "\n",
    "We checked for the validity of the code by comparing the coefficient values obtained by the Gauss Elimination method with the coefficient values obtained by the analytical method at the beginning. They both match, thereby confirming the validity of the code.\n",
    "\n",
    "The Gauss Elimination algorithm took around 0.0006 seconds to execute. "
   ]
  }
 ],
 "metadata": {
  "kernelspec": {
   "display_name": "Python 3",
   "language": "python",
   "name": "python3"
  },
  "language_info": {
   "codemirror_mode": {
    "name": "ipython",
    "version": 3
   },
   "file_extension": ".py",
   "mimetype": "text/x-python",
   "name": "python",
   "nbconvert_exporter": "python",
   "pygments_lexer": "ipython3",
   "version": "3.7.6"
  }
 },
 "nbformat": 4,
 "nbformat_minor": 4
}
