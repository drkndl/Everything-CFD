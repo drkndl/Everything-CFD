{
 "cells": [
  {
   "cell_type": "markdown",
   "metadata": {},
   "source": [
    "### Question 3"
   ]
  },
  {
   "cell_type": "markdown",
   "metadata": {},
   "source": [
    "Consider Problem. 2, in order to reduce the computational domain and cost, assume a proper boundary condition in the given domain that leads to optimum computational domain and cost of the given problem and determine the temperature distribution. Compare the results with the results of Problem. 2."
   ]
  },
  {
   "cell_type": "code",
   "execution_count": 100,
   "metadata": {},
   "outputs": [],
   "source": [
    "# Importing the relevant Python modules\n",
    "import numpy as np\n",
    "import matplotlib.pyplot as plt"
   ]
  },
  {
   "cell_type": "markdown",
   "metadata": {},
   "source": [
    "Taking the heat conduction equation as the Laplace equation:\n",
    "\n",
    "$$ \\frac{d^2T}{dx^2} + \\frac{d^2T}{dy^2} = 0$$"
   ]
  },
  {
   "cell_type": "markdown",
   "metadata": {},
   "source": [
    "Since taking $\\Delta x = \\Delta y = 0.01$ does not reduce the accuracy that much, but reduces the computational cost quite a bit, we can consider it."
   ]
  },
  {
   "cell_type": "code",
   "execution_count": 101,
   "metadata": {},
   "outputs": [
    {
     "name": "stdout",
     "output_type": "stream",
     "text": [
      "51 51 100000.0\n"
     ]
    }
   ],
   "source": [
    "# Initializing the variables\n",
    "\n",
    "x = 0.5                 # x-length of the plate in m\n",
    "y = 0.5                 # y-length of the plate in m\n",
    "dx = 0.01 \n",
    "nx = int(x/dx + 1)      # Total number of divisions in the x-direction\n",
    "dy = 0.01\n",
    "ny = int(y/dy + 1)      # Total number of divisions in the y-direction\n",
    "\n",
    "q = 1E5                 # Heat flux in the top wall in W/m^2\n",
    "k = 41                  # Thermal conductivity in W/mK\n",
    "\n",
    "print(nx, ny, q)"
   ]
  },
  {
   "cell_type": "code",
   "execution_count": 102,
   "metadata": {},
   "outputs": [],
   "source": [
    "# Forming the grid\n",
    "\n",
    "xarr = np.linspace(0, x, nx)     # 1-D Array of Xs\n",
    "yarr = np.linspace(0, y, ny)     # 1-D Array of Ys\n",
    "\n",
    "T = np.zeros((nx, ny))           # 2-D array of temperature in the plate"
   ]
  },
  {
   "cell_type": "markdown",
   "metadata": {},
   "source": [
    "### Boundary Conditions\n",
    "\n",
    "Instead of considering the top wall to have a constant heat flux of $10^5 W/m^2$, let us consider an isothermal condition of T = $-450°C$. This temperature is chosen based on the previous question, where we can see from the contour plot that the temperature at the top boundary is approximately $-450°C$."
   ]
  },
  {
   "cell_type": "code",
   "execution_count": 103,
   "metadata": {},
   "outputs": [
    {
     "name": "stdout",
     "output_type": "stream",
     "text": [
      "[[   0. -450. -450. ... -450. -450.    0.]\n",
      " [   0.    0.    0. ...    0.    0.    0.]\n",
      " [   0.    0.    0. ...    0.    0.    0.]\n",
      " ...\n",
      " [   0.    0.    0. ...    0.    0.    0.]\n",
      " [   0.    0.    0. ...    0.    0.    0.]\n",
      " [   0.    0.    0. ...    0.    0.    0.]]\n"
     ]
    }
   ],
   "source": [
    "# Applying the boundary conditions\n",
    "\n",
    "T[0, :] = -450     # New boundary condition for the top\n",
    "T[:, 0] = 0        # Vertical side\n",
    "T[:, -1] = 0       # Vertical side\n",
    "T[-1, :] = 0       # Insulated bottom\n",
    "\n",
    "print(T)           # This is the initial temperature distribution in the square plate"
   ]
  },
  {
   "cell_type": "markdown",
   "metadata": {},
   "source": [
    "### Discretizing the Laplace Equation (Finite Difference Method)"
   ]
  },
  {
   "cell_type": "markdown",
   "metadata": {},
   "source": [
    "The discretized Laplace equation is: \n",
    "$$ \\frac{T_{i+1, j} - 2T_{i, j} + T_{i-1, j}}{\\Delta x^2} + \\frac{T_{i, j+1} - 2T_{i, j} + T_{i, j-1}}{\\Delta y^2} = 0 $$\n",
    "\n",
    "This becomes,\n",
    "\n",
    "$$ T_{i, j} = 0.25(T_{i+1, j} + T_{i-1, j} + T_{i, j+1} + T_{i, j-1}) $$"
   ]
  },
  {
   "cell_type": "markdown",
   "metadata": {},
   "source": [
    "### Using the Successive Over-Relaxation Method\n",
    "\n",
    "To improve the rate of convergence of the solution, we can use the successive over-relaxation method. This method requires a relaxation parameter $\\omega$ where $1 < \\omega < 2$. This parameter allows for an increased rate of convergence so that it takes lesser number of iterations.\n",
    "\n",
    "Using the SOR method, the discretized equation now becomes:\n",
    "\n",
    "$$ T_{i, j} = 0.25\\omega (T_{i+1, j} + T_{i-1, j} + T_{i, j+1} + T_{i, j-1}) + (1 - \\omega)T_{i,j}^{old}$$"
   ]
  },
  {
   "cell_type": "code",
   "execution_count": 104,
   "metadata": {},
   "outputs": [],
   "source": [
    "def T_dist(T, nt, err, w):\n",
    "    \"\"\"\n",
    "    T_dist is the function that calculates the temperature distribution in the plate by applying the conditions given. \n",
    "    It is solved using the Successive Over-Relaxation (SOR) iterative method.\n",
    "    \n",
    "    Here, T is the initial temperature distribution of the plate.\n",
    "    nt is the maximum number of iterations.\n",
    "    err is the maximum permissible error. \n",
    "    w is the relaxation parameter for the SOR method.\n",
    "    \n",
    "    This function iterates according to the discretization of the Laplace equation and the constant temperature across the top wall.\n",
    "    It returns the final temperature distribution of the plate once it satisfies the convergence criterion.\n",
    "    \n",
    "    \"\"\"\n",
    "    for t in range(1, nt+1):           # t is a single iteration of the maximum number of iterations i.e. nt iterations\n",
    "        Tn = T.copy()             # A copy of the previous iteration is made to check for the error\n",
    "        \n",
    "        # The SOR iteration\n",
    "        for i in range(1, nx-1):\n",
    "            for j in range(1, ny-1):\n",
    "                T[i,j] = 0.25*w*(T[i+1,j] + T[i-1,j] + T[i,j+1] + T[i,j-1]) + (1-w)*Tn[i,j]\n",
    "        \n",
    "        if t%200 == 0:                 # The temperature distribution is printed every 200 iterations to check\n",
    "            print(T)\n",
    "        \n",
    "        # Here, the error is calculated by finding the difference between the current iteration and the previous iteration \n",
    "        # and ensuring that the difference of all the nodes in the 2-D array are less than the max permissible error.\n",
    "        \n",
    "        if (abs(T - Tn) < err).all():\n",
    "            print('\\n')\n",
    "            print(\"Iteration number: \", t)       # If the condition is satisfied, the number of iterations taken is printed\n",
    "            print(\"The temperature distribution: \", T)  # The final temperature distribution is printed\n",
    "            return T\n",
    "        \n",
    "    return T"
   ]
  },
  {
   "cell_type": "markdown",
   "metadata": {},
   "source": [
    "We need to find the optimum relaxation parameter so as to perform the calculation efficiently i.e. with the least amount of iterations possible. I conducted several trials with multiple relaxation parameters to find the most optimum one. The results are as below:\n",
    "\n",
    " | **$\\omega$** | **Iterations** |\n",
    " |--------------|----------------|\n",
    " | 1.1 | 2346  |  \n",
    " | 1.2 | 1943 |\n",
    " |1.3 | 1595 |\n",
    " |1.4 | 1290 |\n",
    " |1.5 | 1019 |\n",
    " |1.6 | 776 |\n",
    " |1.7 | 552 |\n",
    " |1.8 | 341 |\n",
    " |1.9 | 170 |\n",
    " |1.95 | 326 |\n",
    "\n",
    "From the table, we can see that $\\omega = 1.9$ is an optimum relaxation parameter as it takes only 170 iterations."
   ]
  },
  {
   "cell_type": "code",
   "execution_count": 105,
   "metadata": {},
   "outputs": [
    {
     "name": "stdout",
     "output_type": "stream",
     "text": [
      "\n",
      "\n",
      "Iteration number:  170\n",
      "The temperature distribution:  [[ 0.00000000e+00 -4.50000000e+02 -4.50000000e+02 ... -4.50000000e+02\n",
      "  -4.50000000e+02  0.00000000e+00]\n",
      " [ 0.00000000e+00 -2.24802943e+02 -3.13549122e+02 ... -3.13549122e+02\n",
      "  -2.24802942e+02  0.00000000e+00]\n",
      " [ 0.00000000e+00 -1.35662645e+02 -2.24211771e+02 ... -2.24211772e+02\n",
      "  -1.35662645e+02  0.00000000e+00]\n",
      " ...\n",
      " [ 0.00000000e+00 -3.94929847e-01 -7.88228447e-01 ... -7.88228459e-01\n",
      "  -3.94929762e-01  0.00000000e+00]\n",
      " [ 0.00000000e+00 -1.97058225e-01 -3.93303252e-01 ... -3.93303177e-01\n",
      "  -1.97058240e-01  0.00000000e+00]\n",
      " [ 0.00000000e+00  0.00000000e+00  0.00000000e+00 ...  0.00000000e+00\n",
      "   0.00000000e+00  0.00000000e+00]]\n"
     ]
    }
   ],
   "source": [
    "# The calculation is carried out with the initial array T, a max iterations of 10,000, an error of 10^-5 and a relaxation\n",
    "# parameter w = 1.9, the most optimum one.\n",
    "\n",
    "T_final = T_dist(T, 10000, 1E-5, 1.9)"
   ]
  },
  {
   "cell_type": "code",
   "execution_count": 106,
   "metadata": {},
   "outputs": [
    {
     "data": {
      "image/png": "[encoded data removed]",
      "text/plain": [
       "<Figure size 432x288 with 2 Axes>"
      ]
     },
     "metadata": {
      "needs_background": "light"
     },
     "output_type": "display_data"
    },
    {
     "data": {
      "text/plain": [
       "<Figure size 432x288 with 0 Axes>"
      ]
     },
     "metadata": {},
     "output_type": "display_data"
    }
   ],
   "source": [
    "# The function is now plotted. The plot displays the contours of the temperature distribution.\n",
    "\n",
    "# The parameters of the contour plot are initialized\n",
    "colorinterpolation = 50\n",
    "colourMap = plt.cm.jet\n",
    "\n",
    "# Setting the meshgrid\n",
    "X, Y = np.meshgrid(np.arange(0, nx), np.arange(0, ny))\n",
    "\n",
    "final_T = np.flip(T_final, axis=0)  \n",
    "\n",
    "#Plotting the contour\n",
    "fig, ax = plt.subplots(1,1)\n",
    "cp = ax.contourf(X, Y, final_T, colorinterpolation, cmap=colourMap)\n",
    "fig.colorbar(cp)\n",
    "\n",
    "# Adding formatting to the plot\n",
    "ax.set_xticklabels([0,0.1,0.2,0.3,0.4,0.5])\n",
    "ax.set_yticklabels([0,0.1,0.2,0.3,0.4,0.5])\n",
    "ax.set_title(\"Temperature Distribution in the plate\")\n",
    "plt.show()\n",
    "\n",
    "#Saving the plot\n",
    "plt.savefig(\"contourplot_3.jpg\")"
   ]
  },
  {
   "cell_type": "markdown",
   "metadata": {},
   "source": [
    "### The Conclusion"
   ]
  },
  {
   "cell_type": "markdown",
   "metadata": {},
   "source": [
    "The contour plot shows that the temperature across the vertical sides and the insulated bottom is zero, as expected. This time, the isothermal boundary condition across the top phase results in the temperature distribution as indicated in the plot.\n",
    "\n",
    "We made 3 simplifications to the problem:\n",
    "\n",
    "1. We increased the size of each cell from dx = dy = 0.001 to dx = dy = 0.01. This results in some sacrifice in the accuracy, but an increased rate of convergence.\n",
    "\n",
    "2. Instead of a constant heat flux condition, we adopted an isothermal condition at the top boundary. Again, this reduces the accuracy slightly, but the computational expenses are decreased.\n",
    "\n",
    "3. Finally, instead of solving directly explicitly, we used the Successive Over-Relaxation iterative method to bring the number of iterations down. \n",
    "\n",
    "As a result of these simplifications, the number of iterations to converge to the answer drastically reduces from 4,65,035 iterations to 170. But the accuracy is not sacrificed very much, and this is reflected in the contour plot, where the temperature distribution retains a similar nature."
   ]
  }
 ],
 "metadata": {
  "kernelspec": {
   "display_name": "Python 3",
   "language": "python",
   "name": "python3"
  },
  "language_info": {
   "codemirror_mode": {
    "name": "ipython",
    "version": 3
   },
   "file_extension": ".py",
   "mimetype": "text/x-python",
   "name": "python",
   "nbconvert_exporter": "python",
   "pygments_lexer": "ipython3",
   "version": "3.7.6"
  }
 },
 "nbformat": 4,
 "nbformat_minor": 4
}
