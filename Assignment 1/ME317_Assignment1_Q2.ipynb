{
 "cells": [
  {
   "cell_type": "markdown",
   "metadata": {},
   "source": [
    "### Question 2"
   ]
  },
  {
   "cell_type": "markdown",
   "metadata": {},
   "source": [
    "A two dimensional long rod, square in cross section, has two vertical sides maintained at a temperature of $0°C$. The heat flux entering from the top wall is $10^5 W/m^2$ and the bottom wall is kept insulated. If the length of each side is $0.5m$, determine the temperature distribution in the rod, employing $\\Delta x = \\Delta y = 0.001m$. Take $k = 41 W/m K$."
   ]
  },
  {
   "cell_type": "code",
   "execution_count": 25,
   "metadata": {},
   "outputs": [],
   "source": [
    "# Importing the relevant Python modules\n",
    "import numpy as np\n",
    "import matplotlib.pyplot as plt"
   ]
  },
  {
   "cell_type": "markdown",
   "metadata": {},
   "source": [
    "Taking the heat conduction equation as the Laplace equation:\n",
    "\n",
    "$$ \\frac{d^2T}{dx^2} + \\frac{d^2T}{dy^2} = 0$$"
   ]
  },
  {
   "cell_type": "code",
   "execution_count": 26,
   "metadata": {},
   "outputs": [
    {
     "name": "stdout",
     "output_type": "stream",
     "text": [
      "501 501 100000.0\n"
     ]
    }
   ],
   "source": [
    "# Initializing the variables\n",
    "\n",
    "x = 0.5                 # x-length of the plate in m\n",
    "y = 0.5                 # y-length of the plate in m\n",
    "dx = 0.001 \n",
    "nx = int(x/dx + 1)      # Total number of divisions in the x-direction\n",
    "dy = 0.001\n",
    "ny = int(y/dy + 1)      # Total number of divisions in the y-direction\n",
    "\n",
    "q = 1E5                 # Heat flux in the top wall in W/m^2\n",
    "k = 41                  # Thermal conductivity in W/mK\n",
    "\n",
    "print(nx, ny, q)"
   ]
  },
  {
   "cell_type": "code",
   "execution_count": 27,
   "metadata": {},
   "outputs": [],
   "source": [
    "# Forming the grid\n",
    "\n",
    "xarr = np.linspace(0, x, nx)     # 1-D Array of Xs\n",
    "yarr = np.linspace(0, y, ny)     # 1-D Array of Ys\n",
    "\n",
    "T = np.zeros((nx, ny))           # 2-D array of temperature in the plate"
   ]
  },
  {
   "cell_type": "code",
   "execution_count": 28,
   "metadata": {},
   "outputs": [
    {
     "name": "stdout",
     "output_type": "stream",
     "text": [
      "[[0. 0. 0. ... 0. 0. 0.]\n",
      " [0. 0. 0. ... 0. 0. 0.]\n",
      " [0. 0. 0. ... 0. 0. 0.]\n",
      " ...\n",
      " [0. 0. 0. ... 0. 0. 0.]\n",
      " [0. 0. 0. ... 0. 0. 0.]\n",
      " [0. 0. 0. ... 0. 0. 0.]]\n"
     ]
    }
   ],
   "source": [
    "# Applying the boundary conditions\n",
    "\n",
    "T[:, 0] = 0        # Vertical side\n",
    "T[:, -1] = 0       # Vertical side\n",
    "T[-1, :] = 0       # Insulated bottom\n",
    "\n",
    "print(T)           # This is the initial temperature distribution in the square plate"
   ]
  },
  {
   "cell_type": "markdown",
   "metadata": {},
   "source": [
    "### Discretizing the Laplace Equation (Finite Difference Method)"
   ]
  },
  {
   "cell_type": "markdown",
   "metadata": {},
   "source": [
    "The discretized Laplace equation is: \n",
    "$$ \\frac{T_{i+1, j} - 2T_{i, j} + T_{i-1, j}}{\\Delta x^2} + \\frac{T_{i, j+1} - 2T_{i, j} + T_{i, j-1}}{\\Delta y^2} = 0 $$\n",
    "\n",
    "This becomes,\n",
    "\n",
    "$$ T_{i, j} = 0.25(T_{i+1, j} + T_{i-1, j} + T_{i, j+1} + T_{i, j-1}) $$\n",
    "\n",
    "We also need to introduce the 1-D heat conduction equation for the constant flux coming in from the top wall. The 1-D heat conduction equation is: $$q = -k \\frac{dT}{dy} $$\n",
    "\n",
    "Discretizing this equation using backward difference, we get:\n",
    "\n",
    "$$T_{j} - T_{j-1} = - \\frac{q dy}{k} $$\n",
    "\n",
    "Therefore,\n",
    "\n",
    "$$T_{j} = T_{j-1} - \\frac{q dy}{k} $$\n",
    "\n",
    "Note: The change in flux happens in the y-direction in the usual x-y plane as the flux is introduced in the top phase. But in a Python 2-D array, this y-direction is denoted by the various rows. In a Python 2-D array, the rows are denoted by x. Therefore, a change in the flux in the y-direction in the Cartesian plane is the same as the change in the x-direction in a Python 2-D array."
   ]
  },
  {
   "cell_type": "code",
   "execution_count": 30,
   "metadata": {},
   "outputs": [],
   "source": [
    "def T_dist(T, nt, err):\n",
    "    \"\"\"\n",
    "    T_dist is the function that calculates the temperature distribution in the plate by applying the conditions given. \n",
    "    It is solved using the explicit method.\n",
    "    \n",
    "    Here, T is the initial temperature distribution of the plate.\n",
    "    nt is the maximum number of iterations.\n",
    "    err is the maximum permissible error. \n",
    "    \n",
    "    This function iterates according to the discretization of the Laplace equation and the heat conduction across the top wall.\n",
    "    It returns the final temperature distribution of the plate once it satisfies the convergence criterion.\n",
    "    \n",
    "    \"\"\"\n",
    "    for t in range(1, nt+1):           # t is a single iteration of the maximum number of iterations i.e. nt iterations\n",
    "        Tn = T.copy()             # A copy of the previous iteration is made to check for the error\n",
    "\n",
    "        T[1:-1, 1:-1] = 0.25*(T[2:, 1:-1] + T[0:-2, 1:-1] + T[1:-1, 2:] + T[1:-1, 0:-2])\n",
    "                 \n",
    "        for i in range(1, ny):\n",
    "            T[nx-1, i] = T[nx-2, i] - dy*q/k     # Applying the heat conduction equation across the rows\n",
    "        T[0, :] = 0                              # The condition for the insulated bottom\n",
    "\n",
    "        \n",
    "        if t%100000 == 0:                 # The temperature distribution is printed every 1,00,000 iterations to check\n",
    "            print(T)\n",
    "        \n",
    "        # Here, the error is calculated by finding the difference between the current iteration and the previous iteration \n",
    "        # and ensuring that the difference of all the nodes in the 2-D array are less than the max permissible error.\n",
    "        \n",
    "        if (abs(T - Tn) < err).all():             \n",
    "            print(\"Iteration number: \", t)       # If the condition is satisfied, the number of iterations taken is printed\n",
    "            print(\"The temperature distribution: \", T)  # The final temperature distribution is printed\n",
    "            return T\n",
    "        \n",
    "    return T"
   ]
  },
  {
   "cell_type": "code",
   "execution_count": 31,
   "metadata": {},
   "outputs": [
    {
     "name": "stdout",
     "output_type": "stream",
     "text": [
      "[[ 0.00000000e+00  0.00000000e+00  0.00000000e+00 ...  0.00000000e+00\n",
      "   0.00000000e+00  0.00000000e+00]\n",
      " [ 0.00000000e+00 -4.70847594e-04 -9.41675605e-04 ... -9.41675605e-04\n",
      "  -4.70847594e-04  0.00000000e+00]\n",
      " [ 0.00000000e+00 -9.41757559e-04 -1.88347595e-03 ... -1.88347595e-03\n",
      "  -9.41757559e-04  0.00000000e+00]\n",
      " ...\n",
      " [ 0.00000000e+00 -7.74671759e+00 -1.50113648e+01 ... -1.50113648e+01\n",
      "  -7.74671759e+00  0.00000000e+00]\n",
      " [ 0.00000000e+00 -8.96621324e+00 -1.67129237e+01 ... -1.67129237e+01\n",
      "  -8.96621324e+00  0.00000000e+00]\n",
      " [ 0.00000000e+00 -1.14052376e+01 -1.91519481e+01 ... -1.91519481e+01\n",
      "  -1.14052376e+01 -2.43902439e+00]]\n",
      "[[ 0.00000000e+00  0.00000000e+00  0.00000000e+00 ...  0.00000000e+00\n",
      "   0.00000000e+00  0.00000000e+00]\n",
      " [ 0.00000000e+00 -1.27939693e-03 -2.55874234e-03 ... -2.55874234e-03\n",
      "  -1.27939693e-03  0.00000000e+00]\n",
      " [ 0.00000000e+00 -2.55886500e-03 -5.11762696e-03 ... -5.11762696e-03\n",
      "  -2.55886500e-03  0.00000000e+00]\n",
      " ...\n",
      " [ 0.00000000e+00 -8.09700603e+00 -1.57119278e+01 ... -1.57119278e+01\n",
      "  -8.09700603e+00  0.00000000e+00]\n",
      " [ 0.00000000e+00 -9.31650706e+00 -1.74134975e+01 ... -1.74134975e+01\n",
      "  -9.31650706e+00  0.00000000e+00]\n",
      " [ 0.00000000e+00 -1.17555314e+01 -1.98525219e+01 ... -1.98525219e+01\n",
      "  -1.17555314e+01 -2.43902439e+00]]\n",
      "[[ 0.00000000e+00  0.00000000e+00  0.00000000e+00 ...  0.00000000e+00\n",
      "   0.00000000e+00  0.00000000e+00]\n",
      " [ 0.00000000e+00 -1.56937681e-03 -3.13869065e-03 ... -3.13869065e-03\n",
      "  -1.56937681e-03  0.00000000e+00]\n",
      " [ 0.00000000e+00 -3.13882259e-03 -6.27751925e-03 ... -6.27751925e-03\n",
      "  -3.13882259e-03  0.00000000e+00]\n",
      " ...\n",
      " [ 0.00000000e+00 -8.19300146e+00 -1.59039149e+01 ... -1.59039149e+01\n",
      "  -8.19300146e+00  0.00000000e+00]\n",
      " [ 0.00000000e+00 -9.41250351e+00 -1.76054866e+01 ... -1.76054866e+01\n",
      "  -9.41250351e+00  0.00000000e+00]\n",
      " [ 0.00000000e+00 -1.18515279e+01 -2.00445110e+01 ... -2.00445110e+01\n",
      "  -1.18515279e+01 -2.43902439e+00]]\n",
      "[[ 0.00000000e+00  0.00000000e+00  0.00000000e+00 ...  0.00000000e+00\n",
      "   0.00000000e+00  0.00000000e+00]\n",
      " [ 0.00000000e+00 -1.65601930e-03 -3.31197221e-03 ... -3.31197221e-03\n",
      "  -1.65601930e-03  0.00000000e+00]\n",
      " [ 0.00000000e+00 -3.31210675e-03 -6.62408072e-03 ... -6.62408072e-03\n",
      "  -3.31210675e-03  0.00000000e+00]\n",
      " ...\n",
      " [ 0.00000000e+00 -8.22070524e+00 -1.59593214e+01 ... -1.59593214e+01\n",
      "  -8.22070524e+00  0.00000000e+00]\n",
      " [ 0.00000000e+00 -9.44020757e+00 -1.76608936e+01 ... -1.76608936e+01\n",
      "  -9.44020757e+00  0.00000000e+00]\n",
      " [ 0.00000000e+00 -1.18792320e+01 -2.00999180e+01 ... -2.00999180e+01\n",
      "  -1.18792320e+01 -2.43902439e+00]]\n",
      "Iteration number:  465035\n",
      "The temperature distribution:  [[ 0.00000000e+00  0.00000000e+00  0.00000000e+00 ...  0.00000000e+00\n",
      "   0.00000000e+00  0.00000000e+00]\n",
      " [ 0.00000000e+00 -1.67571906e-03 -3.35137095e-03 ... -3.35137095e-03\n",
      "  -1.67571906e-03  0.00000000e+00]\n",
      " [ 0.00000000e+00 -3.35150607e-03 -6.70287781e-03 ... -6.70287781e-03\n",
      "  -3.35150607e-03  0.00000000e+00]\n",
      " ...\n",
      " [ 0.00000000e+00 -8.22697515e+00 -1.59718609e+01 ... -1.59718609e+01\n",
      "  -8.22697515e+00  0.00000000e+00]\n",
      " [ 0.00000000e+00 -9.44647754e+00 -1.76734333e+01 ... -1.76734333e+01\n",
      "  -9.44647754e+00  0.00000000e+00]\n",
      " [ 0.00000000e+00 -1.18855019e+01 -2.01124577e+01 ... -2.01124577e+01\n",
      "  -1.18855019e+01 -2.43902439e+00]]\n"
     ]
    }
   ],
   "source": [
    "# The calculation is carried out with the initial array T, a max iterations of 5,00,000 and an error of 10^-5\n",
    "T_final = T_dist(T, 500000, 1E-5)"
   ]
  },
  {
   "cell_type": "code",
   "execution_count": 32,
   "metadata": {},
   "outputs": [
    {
     "data": {
      "image/png": "[encoded data removed]",
      "text/plain": [
       "<Figure size 432x288 with 2 Axes>"
      ]
     },
     "metadata": {
      "needs_background": "light"
     },
     "output_type": "display_data"
    },
    {
     "data": {
      "text/plain": [
       "<Figure size 432x288 with 0 Axes>"
      ]
     },
     "metadata": {},
     "output_type": "display_data"
    }
   ],
   "source": [
    "# The function is now plotted. The plot displays the contours of the temperature distribution.\n",
    "\n",
    "# The parameters of the contour plot are initialized\n",
    "colorinterpolation = 50\n",
    "colourMap = plt.cm.jet\n",
    "\n",
    "# Setting the meshgrid\n",
    "X, Y = np.meshgrid(np.arange(0, nx), np.arange(0, ny))\n",
    "\n",
    "#Plotting the contour\n",
    "fig, ax = plt.subplots(1,1)\n",
    "cp = ax.contourf(X, Y, T_final, colorinterpolation, cmap=colourMap)\n",
    "fig.colorbar(cp)\n",
    "\n",
    "# Adding formatting to the plot\n",
    "ax.set_xticklabels([0,0.1,0.2,0.3,0.4,0.5])\n",
    "ax.set_yticklabels([0,0.1,0.2,0.3,0.4,0.5])\n",
    "ax.set_title(\"Temperature Distribution in the plate\")\n",
    "plt.show()\n",
    "\n",
    "#Saving the plot\n",
    "plt.savefig(\"contourplot.jpg\")"
   ]
  },
  {
   "cell_type": "markdown",
   "metadata": {},
   "source": [
    "### The Conclusion"
   ]
  },
  {
   "cell_type": "markdown",
   "metadata": {},
   "source": [
    "The contour plot shows that the temperature across the vertical sides and the insulated bottom is zero, as expected. The flux across the top phase results in the temperature distribution as indicated in the plot. The temperatures are negative because, as the heat conduction equation has a negative sign, it means that the **heat is flowing out of the top boundary**.\n",
    "\n",
    "It took 4,65,035 iterations for the answer to converge, which is extremely high. Certain changes can be made to make this calculation less computationally expensive. This is discussed in the next question."
   ]
  }
 ],
 "metadata": {
  "kernelspec": {
   "display_name": "Python 3",
   "language": "python",
   "name": "python3"
  },
  "language_info": {
   "codemirror_mode": {
    "name": "ipython",
    "version": 3
   },
   "file_extension": ".py",
   "mimetype": "text/x-python",
   "name": "python",
   "nbconvert_exporter": "python",
   "pygments_lexer": "ipython3",
   "version": "3.7.6"
  }
 },
 "nbformat": 4,
 "nbformat_minor": 4
}
