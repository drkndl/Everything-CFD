{
 "cells": [
  {
   "cell_type": "markdown",
   "metadata": {},
   "source": [
    "Question:\n",
    "\n",
    "The boundary and initial conditions of an aluminium rod are:\n",
    "\n",
    "$$T(x,0) = 0^{\\circ}C \\; \\; where \\; \\; 0\\leq x\\leq 10$$\n",
    "\n",
    "$$T(0,t) = 100^{\\circ}C$$\n",
    "\n",
    "$$T(10,t) = 50^{\\circ}C$$\n",
    "\n",
    "Given the thermal conductivity of aluminium $k=0.49$, density $\\rho=2.7$ and heat capacity $C=0.2174$, solve the temperature distributions over time assuming $\\Delta x=2$ and $\\Delta t=0.1$.\n",
    "\n",
    "Question from: https://www.youtube.com/watch?v=YCOwkNXMmEM\n",
    "\n",
    "Conduction Equation used: $$\\alpha \\frac{\\partial^2 T}{\\partial x^2} = \\frac{\\partial T}{\\partial t}$$\n",
    "\n",
    "Discretization: $$-\\lambda T^{n+1}_{i-1} + 2(1+\\lambda)T_i^{n+1} - \\lambda T^{n+1}_{i+1} = \\lambda T_{i-1}^n + 2(1-\\lambda)T_i^{n} + \\lambda T^n_{i+1}$$\n",
    "\n",
    "where $\\lambda = \\alpha \\frac{\\Delta t}{\\Delta x^2}$"
   ]
  },
  {
   "cell_type": "code",
   "execution_count": 7,
   "metadata": {},
   "outputs": [],
   "source": [
    "import numpy as np\n",
    "import matplotlib.pyplot as plt"
   ]
  },
  {
   "cell_type": "code",
   "execution_count": 8,
   "metadata": {},
   "outputs": [
    {
     "name": "stdout",
     "output_type": "stream",
     "text": [
      "0.020869535588946813\n",
      "[ 0.  2.  4.  6.  8. 10.]\n"
     ]
    }
   ],
   "source": [
    "#Initializing the variables\n",
    "x=10\n",
    "dx=2\n",
    "nx=6\n",
    "\n",
    "nt=1\n",
    "dt=0.1\n",
    "\n",
    "k=0.49\n",
    "rho=2.7\n",
    "C=0.2174\n",
    "lamda=k/(C*rho)*dt/dx**2\n",
    "print(lamda)\n",
    "\n",
    "T_init=np.zeros(nx)\n",
    "xarr=np.linspace(0,x,nx)\n",
    "print(xarr)"
   ]
  },
  {
   "cell_type": "code",
   "execution_count": 9,
   "metadata": {},
   "outputs": [
    {
     "name": "stdout",
     "output_type": "stream",
     "text": [
      "[100.   0.   0.   0.   0.  50.]\n"
     ]
    }
   ],
   "source": [
    "#Boundary conditions\n",
    "Tleft=100\n",
    "Tright=50\n",
    "T_init[0]=Tleft\n",
    "T_init[-1]=Tright\n",
    "print(T_init)"
   ]
  },
  {
   "cell_type": "code",
   "execution_count": 10,
   "metadata": {},
   "outputs": [
    {
     "name": "stdout",
     "output_type": "stream",
     "text": [
      "[-0.020869535588946813, -0.020869535588946813, -0.020869535588946813, 0] [2.0417390711778935, 2.0417390711778935, 2.0417390711778935, 2.0417390711778935] [0, -0.020869535588946813, -0.020869535588946813, -0.020869535588946813] [4.173907117789363, 0, 0, 2.0869535588946815]\n"
     ]
    }
   ],
   "source": [
    "#Implicit numerical solution using TDMA\n",
    "\n",
    "#Lower Diagonal matrix\n",
    "a=[-lamda]*3+[0]\n",
    "\n",
    "#Middle Diagonal matrix\n",
    "b=[2+lamda*2]*4\n",
    "\n",
    "#Upper Diagonal Matrix\n",
    "c=[0]+[-lamda]*3\n",
    "\n",
    "#Right hand side of the system\n",
    "d=[100*lamda*2]+[0]*2+[lamda*50*2]\n",
    "\n",
    "print(a, b, c, d)"
   ]
  },
  {
   "cell_type": "code",
   "execution_count": 11,
   "metadata": {},
   "outputs": [
    {
     "name": "stdout",
     "output_type": "stream",
     "text": [
      "Iteration:  1\n",
      "[2.04429017 0.02100461 0.01066362 1.02225408]\n",
      "\n",
      "\n",
      "Iteration:  2\n",
      "[2.02339456 0.031132   0.01588424 1.01191303]\n",
      "\n",
      "\n",
      "Iteration:  3\n",
      "[2.01316034 0.03601368 0.01843959 1.00687432]\n",
      "\n",
      "\n",
      "Iteration:  4\n",
      "[2.00814784 0.03836617 0.0196901  1.00441925]\n",
      "\n",
      "\n",
      "Iteration:  5\n",
      "[2.00569282 0.03949954 0.02030192 1.00322306]\n",
      "\n",
      "\n",
      "Iteration:  6\n",
      "[2.00449041 0.0400454  0.02060121 1.00264025]\n",
      "\n",
      "\n",
      "Iteration:  7\n",
      "[2.00390149 0.04030823 0.02074757 1.0023563 ]\n",
      "\n",
      "\n",
      "Iteration:  8\n",
      "[2.00361305 0.04043474 0.02081914 1.00221796]\n",
      "\n",
      "\n",
      "Iteration:  9\n",
      "[2.00347178 0.04049562 0.02085412 1.00215056]\n",
      "\n",
      "\n",
      "Iteration:  10\n",
      "[2.00340259 0.0405249  0.02087122 1.00211772]\n",
      "\n",
      "\n"
     ]
    },
    {
     "data": {
      "image/png": "[encoded data removed]",
      "text/plain": [
       "<Figure size 432x288 with 1 Axes>"
      ]
     },
     "metadata": {
      "needs_background": "light"
     },
     "output_type": "display_data"
    }
   ],
   "source": [
    "def TDMAAlgo(a,b,c,d):\n",
    "    n = len(d)\n",
    "    w = np.zeros(n-1,float)\n",
    "    g = np.zeros(n, float)\n",
    "    p = np.zeros(n,float)\n",
    "\n",
    "    w[0] = c[0]/b[0]\n",
    "    g[0] = d[0]/b[0]\n",
    "\n",
    "    for i in range(1,n-1):\n",
    "        w[i] = c[i]/(b[i] - a[i-1]*w[i-1])\n",
    "    for i in range(1,n):\n",
    "        g[i] = (d[i] - a[i-1]*g[i-1])/(b[i] - a[i-1]*w[i-1])\n",
    "    p[n-1] = g[n-1]\n",
    "    for i in range(n-1,0,-1):\n",
    "        p[i-1] = g[i-1] - w[i-1]*p[i]\n",
    "    return p\n",
    "\n",
    "labels = {1: \"At t=0.1s\", 2: \"At t=0.2s\", 3: \"At t=0.3s\", 4: \"At t=0.4s\", 5: \"At t=0.5s\", 6: \"At t=0.6s\", 7: \"At t=0.7s\", 8: \"At t=0.8s\", 9: \"At t=0.9s\", 10: \"At t=1.0s\"}\n",
    "for it in range(0, 10):\n",
    "    T_comp=TDMAAlgo(a,b,c,d)\n",
    "    print(\"Iteration: \", it+1)\n",
    "    print(T_comp)\n",
    "    print(\"\\n\")\n",
    "    d = [T_comp[0] + lamda*100, T_comp[1], T_comp[2], T_comp[3] + lamda*50]\n",
    "    to_plot = [100] + list(T_comp) + [50]\n",
    "    plt.plot(xarr, to_plot, label=labels[it+1])\n",
    "    plt.legend()"
   ]
  },
  {
   "cell_type": "code",
   "execution_count": null,
   "metadata": {},
   "outputs": [],
   "source": []
  }
 ],
 "metadata": {
  "kernelspec": {
   "display_name": "Python 3",
   "language": "python",
   "name": "python3"
  },
  "language_info": {
   "codemirror_mode": {
    "name": "ipython",
    "version": 3
   },
   "file_extension": ".py",
   "mimetype": "text/x-python",
   "name": "python",
   "nbconvert_exporter": "python",
   "pygments_lexer": "ipython3",
   "version": "3.7.6"
  }
 },
 "nbformat": 4,
 "nbformat_minor": 4
}
