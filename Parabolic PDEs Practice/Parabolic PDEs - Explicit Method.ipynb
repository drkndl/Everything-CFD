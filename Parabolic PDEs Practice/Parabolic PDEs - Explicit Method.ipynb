{
 "cells": [
  {
   "cell_type": "markdown",
   "metadata": {},
   "source": [
    "Question:\n",
    "\n",
    "Consider a steel rod that is subjected to a temperature of $100^{\\circ}C$ on the left end and $25^{\\circ}C$ on the right end. If the rod is of length $0.05m$, use the explicit method to find the temperature distribution of the rod from $t=0$ to $t=9$ seconds. Use $\\Delta x=0.01m$ and $\\Delta t=3s$.\n",
    "\n",
    "$k=54$, $\\rho = 7800$ and $C = 490$. The initial temperature of the rod is $20^{\\circ}C$.\n",
    "\n",
    "Question from: https://www.youtube.com/watch?v=p0V1eSlM2xo\n",
    "\n",
    "Conduction Equation used: $$\\alpha \\frac{\\partial^2 T}{\\partial x^2} = \\frac{\\partial T}{\\partial t}$$\n",
    "\n",
    "Discretization: $$T_i^{j+1} = T_i^j + \\lambda (T_{i+1}^j - 2T_i^j + T_{i-1}^j)$$\n",
    "\n",
    "where $\\lambda = \\alpha \\frac{\\Delta t}{\\Delta x^2}$"
   ]
  },
  {
   "cell_type": "code",
   "execution_count": 30,
   "metadata": {},
   "outputs": [],
   "source": [
    "import numpy as np\n",
    "import matplotlib.pyplot as plt"
   ]
  },
  {
   "cell_type": "code",
   "execution_count": 31,
   "metadata": {},
   "outputs": [
    {
     "name": "stdout",
     "output_type": "stream",
     "text": [
      "0.423861852433281\n",
      "[0.   0.01 0.02 0.03 0.04 0.05]\n"
     ]
    }
   ],
   "source": [
    "#Initializing the variables\n",
    "x=0.05\n",
    "dx=0.01\n",
    "nx=6\n",
    "\n",
    "nt=9\n",
    "dt=3\n",
    "\n",
    "k=54\n",
    "rho=7800\n",
    "C=490\n",
    "lamda=k/(C*rho)*dt/dx**2\n",
    "print(lamda)\n",
    "\n",
    "T_init=20*np.ones(nx)\n",
    "xarr=np.linspace(0,x,nx)\n",
    "print(xarr)"
   ]
  },
  {
   "cell_type": "code",
   "execution_count": 32,
   "metadata": {},
   "outputs": [
    {
     "name": "stdout",
     "output_type": "stream",
     "text": [
      "[100.  20.  20.  20.  20.  25.]\n"
     ]
    }
   ],
   "source": [
    "#Boundary conditions\n",
    "Tleft=100\n",
    "Tright=25\n",
    "T_init[0]=Tleft\n",
    "T_init[-1]=Tright\n",
    "print(T_init)"
   ]
  },
  {
   "cell_type": "code",
   "execution_count": 33,
   "metadata": {},
   "outputs": [
    {
     "name": "stdout",
     "output_type": "stream",
     "text": [
      "[100.          53.90894819  20.          20.          22.11930926\n",
      "  25.        ]\n",
      "[100.          59.0724772   34.3727096   20.89829435  22.44202982\n",
      "  25.        ]\n",
      "[100.          65.95080358  39.13070824  27.26391553  22.87192522\n",
      "  25.        ]\n"
     ]
    },
    {
     "data": {
      "image/png": "[encoded data removed]",
      "text/plain": [
       "<Figure size 432x288 with 1 Axes>"
      ]
     },
     "metadata": {
      "needs_background": "light"
     },
     "output_type": "display_data"
    }
   ],
   "source": [
    "labels={3:'At t=3s', 6:'At t=6s', 9:'At t=9s'}\n",
    "\n",
    "def conduction(T):\n",
    "    for n in range(3,nt+1,dt):\n",
    "        Tn=T.copy()\n",
    "        for i in range(1,nx-1):\n",
    "            #Tn=T.copy()\n",
    "            T[i]=Tn[i] + lamda*(Tn[i+1]-2*Tn[i]+Tn[i-1])\n",
    "            T[0]=Tleft\n",
    "            T[-1]=Tright\n",
    "        plt.plot(xarr,T, label=labels[n])\n",
    "        plt.legend()\n",
    "        print(T)\n",
    "    \n",
    "conduction(T_init)  "
   ]
  },
  {
   "cell_type": "code",
   "execution_count": null,
   "metadata": {},
   "outputs": [],
   "source": []
  }
 ],
 "metadata": {
  "kernelspec": {
   "display_name": "Python 3",
   "language": "python",
   "name": "python3"
  },
  "language_info": {
   "codemirror_mode": {
    "name": "ipython",
    "version": 3
   },
   "file_extension": ".py",
   "mimetype": "text/x-python",
   "name": "python",
   "nbconvert_exporter": "python",
   "pygments_lexer": "ipython3",
   "version": "3.7.6"
  }
 },
 "nbformat": 4,
 "nbformat_minor": 4
}
