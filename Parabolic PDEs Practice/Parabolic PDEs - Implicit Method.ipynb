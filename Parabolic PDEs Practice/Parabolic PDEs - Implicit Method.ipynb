{
 "cells": [
  {
   "cell_type": "markdown",
   "metadata": {},
   "source": [
    "Question:\n",
    "\n",
    "The boundary and initial conditions of an aluminium rod are:\n",
    "\n",
    "$$T(x,0) = 0^{\\circ}C \\; \\; where \\; \\; 0\\leq x\\leq 10$$\n",
    "\n",
    "$$T(0,t) = 100^{\\circ}C$$\n",
    "\n",
    "$$T(10,t) = 50^{\\circ}C$$\n",
    "\n",
    "Given the thermal conductivity of aluminium $k=0.49$, density $\\rho=2.7$ and heat capacity $C=0.2174$, solve the temperature distributions over time assuming $\\Delta x=2$ and $\\Delta t=0.1$.\n",
    "\n",
    "Question from: https://www.youtube.com/watch?v=XjGiN7Fvyo0&t=63s\n",
    "\n",
    "Conduction Equation used: $$\\alpha \\frac{\\partial^2 T}{\\partial x^2} = \\frac{\\partial T}{\\partial t}$$\n",
    "\n",
    "Discretization: $$T_i^{j+1} = -T_i^{j} + \\lambda (T_{i+1}^{j+1} - 2T_i^{j+1} + T_{i-1}^{j+1})$$\n",
    "\n",
    "where $\\lambda = \\alpha \\frac{\\Delta t}{\\Delta x^2}$"
   ]
  },
  {
   "cell_type": "code",
   "execution_count": 93,
   "metadata": {},
   "outputs": [],
   "source": [
    "import numpy as np\n",
    "import matplotlib.pyplot as plt"
   ]
  },
  {
   "cell_type": "code",
   "execution_count": 94,
   "metadata": {},
   "outputs": [
    {
     "name": "stdout",
     "output_type": "stream",
     "text": [
      "0.020869535588946813\n",
      "[ 0.  2.  4.  6.  8. 10.]\n"
     ]
    }
   ],
   "source": [
    "#Initializing the variables\n",
    "x=10\n",
    "dx=2\n",
    "nx=6\n",
    "\n",
    "nt=1\n",
    "dt=0.1\n",
    "\n",
    "k=0.49\n",
    "rho=2.7\n",
    "C=0.2174\n",
    "lamda=k/(C*rho)*dt/dx**2\n",
    "print(lamda)\n",
    "\n",
    "T_init=np.zeros(nx)\n",
    "xarr=np.linspace(0,x,nx)\n",
    "print(xarr)"
   ]
  },
  {
   "cell_type": "code",
   "execution_count": 95,
   "metadata": {},
   "outputs": [
    {
     "name": "stdout",
     "output_type": "stream",
     "text": [
      "[100.   0.   0.   0.   0. 100.]\n"
     ]
    }
   ],
   "source": [
    "#Boundary conditions\n",
    "Tleft=100\n",
    "Tright=100\n",
    "T_init[0]=Tleft\n",
    "T_init[-1]=Tright\n",
    "print(T_init)"
   ]
  },
  {
   "cell_type": "code",
   "execution_count": 96,
   "metadata": {},
   "outputs": [
    {
     "name": "stdout",
     "output_type": "stream",
     "text": [
      "[-0.020869535588946813, -0.020869535588946813, -0.020869535588946813, 0] [1.04175, 1.04175, 1.04175, 1.04175] [0, -0.020869535588946813, -0.020869535588946813, -0.020869535588946813] [2.0875, 0, 0, 2.0875]\n"
     ]
    }
   ],
   "source": [
    "#Implicit numerical solution using TDMA\n",
    "\n",
    "#Lower Diagonal matrix\n",
    "a=[-lamda]*3+[0]\n",
    "\n",
    "#Middle Diagonal matrix\n",
    "b=[1.04175]*4\n",
    "\n",
    "#Upper Diagonal Matrix\n",
    "c=[0]+[-lamda]*3\n",
    "\n",
    "#Right hand side of the system\n",
    "d=[2.0875]+[0]*2+[2.0875]\n",
    "\n",
    "print(a, b, c, d)"
   ]
  },
  {
   "cell_type": "code",
   "execution_count": 97,
   "metadata": {},
   "outputs": [
    {
     "name": "stdout",
     "output_type": "stream",
     "text": [
      "Iteration:  1\n",
      "[2.00383969 0.04096419 0.04098031 2.00466066]\n",
      "\n",
      "\n",
      "Iteration:  2\n",
      "[3.92684737 0.12040322 0.12048128 3.93004906]\n",
      "\n",
      "\n",
      "Iteration:  3\n",
      "[5.77278707 0.23595646 0.2361832  5.78059194]\n",
      "\n",
      "\n",
      "Iteration:  4\n",
      "[7.54474743 0.3853757  0.38588805 7.55997005]\n",
      "\n",
      "\n",
      "Iteration:  5\n",
      "[9.24569329 0.56652053 0.56751295 9.27167491]\n",
      "\n",
      "\n",
      "Iteration:  6\n",
      "[10.8784707   0.77735376  0.77908405 10.91901857]\n",
      "\n",
      "\n",
      "Iteration:  7\n",
      "[12.44581162  1.01593713  1.01873071 12.50514285]\n",
      "\n",
      "\n",
      "Iteration:  8\n",
      "[13.95033855  1.28042707  1.28468001 14.03302816]\n",
      "\n",
      "\n",
      "Iteration:  9\n",
      "[15.39456886  1.56907064  1.57525165 15.50550179]\n",
      "\n",
      "\n",
      "Iteration:  10\n",
      "[16.78091904  1.88020169  1.888853   16.92524582]\n",
      "\n",
      "\n"
     ]
    },
    {
     "data": {
      "image/png": "[encoded data removed]",
      "text/plain": [
       "<Figure size 432x288 with 1 Axes>"
      ]
     },
     "metadata": {
      "needs_background": "light"
     },
     "output_type": "display_data"
    }
   ],
   "source": [
    "def TDMAAlgo(a,b,c,d):\n",
    "    n = len(d)\n",
    "    w = np.zeros(n-1,float)\n",
    "    g = np.zeros(n, float)\n",
    "    p = np.zeros(n,float)\n",
    "\n",
    "    w[0] = c[0]/b[0]\n",
    "    g[0] = d[0]/b[0]\n",
    "\n",
    "    for i in range(1,n-1):\n",
    "        w[i] = c[i]/(b[i] - a[i-1]*w[i-1])\n",
    "    for i in range(1,n):\n",
    "        g[i] = (d[i] - a[i-1]*g[i-1])/(b[i] - a[i-1]*w[i-1])\n",
    "    p[n-1] = g[n-1]\n",
    "    for i in range(n-1,0,-1):\n",
    "        p[i-1] = g[i-1] - w[i-1]*p[i]\n",
    "    return p\n",
    "\n",
    "labels = {1: \"At t=0.1s\", 2: \"At t=0.2s\", 3: \"At t=0.3s\", 4: \"At t=0.4s\", 5: \"At t=0.5s\", 6: \"At t=0.6s\", 7: \"At t=0.7s\", 8: \"At t=0.8s\", 9: \"At t=0.9s\", 10: \"At t=1.0s\"}\n",
    "for it in range(0, 10):\n",
    "    T_comp=TDMAAlgo(a,b,c,d)\n",
    "    print(\"Iteration: \", it+1)\n",
    "    print(T_comp)\n",
    "    print(\"\\n\")\n",
    "    d = [T_comp[0] + lamda*100, T_comp[1], T_comp[2], T_comp[3] + lamda*100]\n",
    "    to_plot = [100] + list(T_comp) + [100]\n",
    "    plt.plot(xarr, to_plot, label=labels[it+1])\n",
    "    plt.legend()"
   ]
  },
  {
   "cell_type": "code",
   "execution_count": null,
   "metadata": {},
   "outputs": [],
   "source": []
  }
 ],
 "metadata": {
  "kernelspec": {
   "display_name": "Python 3",
   "language": "python",
   "name": "python3"
  },
  "language_info": {
   "codemirror_mode": {
    "name": "ipython",
    "version": 3
   },
   "file_extension": ".py",
   "mimetype": "text/x-python",
   "name": "python",
   "nbconvert_exporter": "python",
   "pygments_lexer": "ipython3",
   "version": "3.7.6"
  }
 },
 "nbformat": 4,
 "nbformat_minor": 4
}
