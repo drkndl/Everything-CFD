{
 "cells": [
  {
   "cell_type": "code",
   "execution_count": 26,
   "metadata": {},
   "outputs": [],
   "source": [
    "import numpy as np\n",
    "import matplotlib.pyplot as plt"
   ]
  },
  {
   "cell_type": "code",
   "execution_count": 27,
   "metadata": {},
   "outputs": [
    {
     "name": "stdout",
     "output_type": "stream",
     "text": [
      "[0.   0.25 0.5  0.75 1.  ]\n"
     ]
    }
   ],
   "source": [
    "#Initializing the variables\n",
    "x=1\n",
    "dx=0.25\n",
    "nx=5\n",
    "\n",
    "nt=1001\n",
    "dt=0.06\n",
    "\n",
    "# alpha = 10**-6\n",
    "# lamda = alpha*dt/dx**2\n",
    "# print(lamda)\n",
    "# H = 100\n",
    "# Ta = 15\n",
    "\n",
    "T_init=[0, 18.75, 25, 18.75, 0]\n",
    "xarr=np.linspace(0,x,nx)\n",
    "print(xarr)"
   ]
  },
  {
   "cell_type": "code",
   "execution_count": 28,
   "metadata": {},
   "outputs": [],
   "source": [
    "#Boundary conditions\n",
    "# Tleft=100\n",
    "# Tright=100\n",
    "# T_init[0]=Tleft\n",
    "# T_init[-1]=Tright\n",
    "# print(T_init)"
   ]
  },
  {
   "cell_type": "code",
   "execution_count": 29,
   "metadata": {},
   "outputs": [
    {
     "name": "stdout",
     "output_type": "stream",
     "text": [
      "[-1, -1] [4, 4, 4] [-1, -1] [25, 37.5, 25]\n"
     ]
    }
   ],
   "source": [
    "#Implicit numerical solution using TDMA\n",
    "\n",
    "#Lower Diagonal matrix\n",
    "a=[-1]*2\n",
    "\n",
    "#Middle Diagonal matrix\n",
    "b=[4]*3\n",
    "\n",
    "#Upper Diagonal Matrix\n",
    "c=[-1]*2\n",
    "\n",
    "#Right hand side of the system\n",
    "d=[25, 37.5, 25]\n",
    "\n",
    "print(a, b, c, d)"
   ]
  },
  {
   "cell_type": "code",
   "execution_count": 30,
   "metadata": {},
   "outputs": [
    {
     "name": "stdout",
     "output_type": "stream",
     "text": [
      "Iteration:  1\n",
      "[10 18 13]\n",
      "\n",
      "\n",
      "Iteration:  250\n",
      "[20 36 26]\n",
      "\n",
      "\n",
      "Iteration:  500\n",
      "[20 36 26]\n",
      "\n",
      "\n",
      "Iteration:  750\n",
      "[20 36 26]\n",
      "\n",
      "\n",
      "Iteration:  1000\n",
      "[20 36 26]\n",
      "\n",
      "\n"
     ]
    },
    {
     "data": {
      "image/png": "[encoded data removed]",
      "text/plain": [
       "<Figure size 432x288 with 1 Axes>"
      ]
     },
     "metadata": {
      "needs_background": "light"
     },
     "output_type": "display_data"
    }
   ],
   "source": [
    "# def TDMAAlgo(a,b,c,d):\n",
    "#     n = len(d)\n",
    "#     w = np.zeros(n-1,float)\n",
    "#     g = np.zeros(n, float)\n",
    "#     p = np.zeros(n,float)\n",
    "\n",
    "#     w[0] = c[0]/b[0]\n",
    "#     g[0] = d[0]/b[0]\n",
    "\n",
    "#     for i in range(1,n-1):\n",
    "#         w[i] = c[i]/(b[i] - a[i-1]*w[i-1])\n",
    "#     for i in range(1,n):\n",
    "#         g[i] = (d[i] - a[i-1]*g[i-1])/(b[i] - a[i-1]*w[i-1])\n",
    "#     p[n-1] = g[n-1]\n",
    "#     for i in range(n-1,0,-1):\n",
    "#         p[i-1] = g[i-1] - w[i-1]*p[i]\n",
    "#     return p\n",
    "\n",
    "def TDMAsolver(a, b, c, d):\n",
    "    '''\n",
    "    TDMA solver, a b c d can be NumPy array type or Python list type.\n",
    "    refer to http://en.wikipedia.org/wiki/Tridiagonal_matrix_algorithm\n",
    "    and to http://www.cfd-online.com/Wiki/Tridiagonal_matrix_algorithm_-_TDMA_(Thomas_algorithm)\n",
    "    '''\n",
    "    nf = len(d) # number of equations\n",
    "    ac, bc, cc, dc = map(np.array, (a, b, c, d)) # copy arrays\n",
    "    for it in range(1, nf):\n",
    "        mc = ac[it-1]/bc[it-1]\n",
    "        bc[it] = bc[it] - mc*cc[it-1] \n",
    "        dc[it] = dc[it] - mc*dc[it-1]\n",
    "        \t    \n",
    "    xc = bc\n",
    "    xc[-1] = dc[-1]/bc[-1]\n",
    "\n",
    "    for il in range(nf-2, -1, -1):\n",
    "        xc[il] = (dc[il]-cc[il]*xc[il+1])/bc[il]\n",
    "\n",
    "    return xc\n",
    "\n",
    "#coeff = 2*(1-lamda)\n",
    "#labels = {1: \"At t=0.1s\", 2: \"At t=0.2s\", 3: \"At t=0.3s\", 4: \"At t=0.4s\", 5: \"At t=0.5s\", 6: \"At t=0.6s\", 7: \"At t=0.7s\", 8: \"At t=0.8s\", 9: \"At t=0.9s\", 10: \"At t=1.0s\"}\n",
    "for it in range(1, nt+1):\n",
    "    T_comp=TDMAsolver(a,b,c,d)\n",
    "    d = [T_comp[0] + 25, T_comp[1] + 37.5, T_comp[2] + 25]\n",
    "    if it%250==0 or it==1:\n",
    "        print(\"Iteration: \", it)\n",
    "        print(T_comp)\n",
    "        print(\"\\n\")\n",
    "        to_plot = [0] + list(T_comp) + [0]\n",
    "        plt.plot(xarr, to_plot)"
   ]
  },
  {
   "cell_type": "code",
   "execution_count": null,
   "metadata": {},
   "outputs": [],
   "source": []
  }
 ],
 "metadata": {
  "kernelspec": {
   "display_name": "Python 3",
   "language": "python",
   "name": "python3"
  },
  "language_info": {
   "codemirror_mode": {
    "name": "ipython",
    "version": 3
   },
   "file_extension": ".py",
   "mimetype": "text/x-python",
   "name": "python",
   "nbconvert_exporter": "python",
   "pygments_lexer": "ipython3",
   "version": "3.7.6"
  }
 },
 "nbformat": 4,
 "nbformat_minor": 4
}
